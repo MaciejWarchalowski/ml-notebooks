--2024-03-23 22:02:57--  https://raw.githubusercontent.com/holoviz/holoviews/main/examples/user_guide/15-Large_Data.ipynb
Resolving raw.githubusercontent.com (raw.githubusercontent.com)... 185.199.110.133, 185.199.111.133, 185.199.108.133, ...
Connecting to raw.githubusercontent.com (raw.githubusercontent.com)|185.199.110.133|:443... connected.
HTTP request sent, awaiting response... 200 OK
Length: 53500 (52K) [text/plain]
Saving to: ‘15-Large_Data.ipynb’

     0K .......... .......... .......... .......... .......... 95% 10.1M 0s
    50K ..                                                    100% 56.5M=0.005s

2024-03-23 22:02:57 (10.4 MB/s) - ‘15-Large_Data.ipynb’ saved [53500/53500]

