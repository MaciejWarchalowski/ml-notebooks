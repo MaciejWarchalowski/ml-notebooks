{
 "cells": [
  {
   "cell_type": "code",
   "execution_count": 49,
   "id": "247f22e8-a90d-4fd7-b081-bd15d994188c",
   "metadata": {},
   "outputs": [
    {
     "name": "stderr",
     "output_type": "stream",
     "text": [
      "huggingface/tokenizers: The current process just got forked, after parallelism has already been used. Disabling parallelism to avoid deadlocks...\n",
      "To disable this warning, you can either:\n",
      "\t- Avoid using `tokenizers` before the fork if possible\n",
      "\t- Explicitly set the environment variable TOKENIZERS_PARALLELISM=(true | false)\n"
     ]
    },
    {
     "name": "stdout",
     "output_type": "stream",
     "text": [
      "Requirement already satisfied: bertopic in /opt/conda/lib/python3.10/site-packages (0.16.0)\n",
      "Requirement already satisfied: matplotlib in /opt/conda/lib/python3.10/site-packages (3.8.3)\n",
      "Requirement already satisfied: plotly in /opt/conda/lib/python3.10/site-packages (5.20.0)\n",
      "Collecting jupyter-dash\n",
      "  Downloading jupyter_dash-0.4.2-py3-none-any.whl.metadata (3.6 kB)\n",
      "Requirement already satisfied: numpy>=1.20.0 in /opt/conda/lib/python3.10/site-packages (from bertopic) (1.26.3)\n",
      "Requirement already satisfied: hdbscan>=0.8.29 in /opt/conda/lib/python3.10/site-packages (from bertopic) (0.8.33)\n",
      "Requirement already satisfied: umap-learn>=0.5.0 in /opt/conda/lib/python3.10/site-packages (from bertopic) (0.5.5)\n",
      "Requirement already satisfied: pandas>=1.1.5 in /opt/conda/lib/python3.10/site-packages (from bertopic) (2.2.1)\n",
      "Requirement already satisfied: scikit-learn>=0.22.2.post1 in /opt/conda/lib/python3.10/site-packages (from bertopic) (1.4.1.post1)\n",
      "Requirement already satisfied: tqdm>=4.41.1 in /opt/conda/lib/python3.10/site-packages (from bertopic) (4.65.0)\n",
      "Requirement already satisfied: sentence-transformers>=0.4.1 in /opt/conda/lib/python3.10/site-packages (from bertopic) (2.5.1)\n",
      "Requirement already satisfied: contourpy>=1.0.1 in /opt/conda/lib/python3.10/site-packages (from matplotlib) (1.2.0)\n",
      "Requirement already satisfied: cycler>=0.10 in /opt/conda/lib/python3.10/site-packages (from matplotlib) (0.12.1)\n",
      "Requirement already satisfied: fonttools>=4.22.0 in /opt/conda/lib/python3.10/site-packages (from matplotlib) (4.50.0)\n",
      "Requirement already satisfied: kiwisolver>=1.3.1 in /opt/conda/lib/python3.10/site-packages (from matplotlib) (1.4.5)\n",
      "Requirement already satisfied: packaging>=20.0 in /opt/conda/lib/python3.10/site-packages (from matplotlib) (23.1)\n",
      "Requirement already satisfied: pillow>=8 in /opt/conda/lib/python3.10/site-packages (from matplotlib) (10.0.1)\n",
      "Requirement already satisfied: pyparsing>=2.3.1 in /opt/conda/lib/python3.10/site-packages (from matplotlib) (3.1.2)\n",
      "Requirement already satisfied: python-dateutil>=2.7 in /opt/conda/lib/python3.10/site-packages (from matplotlib) (2.8.2)\n",
      "Requirement already satisfied: tenacity>=6.2.0 in /opt/conda/lib/python3.10/site-packages (from plotly) (8.2.3)\n",
      "Collecting dash (from jupyter-dash)\n",
      "  Downloading dash-2.16.1-py3-none-any.whl.metadata (10 kB)\n",
      "Requirement already satisfied: requests in /opt/conda/lib/python3.10/site-packages (from jupyter-dash) (2.31.0)\n",
      "Collecting flask (from jupyter-dash)\n",
      "  Downloading flask-3.0.2-py3-none-any.whl.metadata (3.6 kB)\n",
      "Collecting retrying (from jupyter-dash)\n",
      "  Downloading retrying-1.3.4-py3-none-any.whl.metadata (6.9 kB)\n",
      "Requirement already satisfied: ipython in /opt/conda/lib/python3.10/site-packages (from jupyter-dash) (8.20.0)\n",
      "Requirement already satisfied: ipykernel in /opt/conda/lib/python3.10/site-packages (from jupyter-dash) (6.29.2)\n",
      "Collecting ansi2html (from jupyter-dash)\n",
      "  Downloading ansi2html-1.9.1-py3-none-any.whl.metadata (3.7 kB)\n",
      "Requirement already satisfied: nest-asyncio in /opt/conda/lib/python3.10/site-packages (from jupyter-dash) (1.6.0)\n",
      "Requirement already satisfied: cython<3,>=0.27 in /opt/conda/lib/python3.10/site-packages (from hdbscan>=0.8.29->bertopic) (0.29.37)\n",
      "Requirement already satisfied: scipy>=1.0 in /opt/conda/lib/python3.10/site-packages (from hdbscan>=0.8.29->bertopic) (1.12.0)\n",
      "Requirement already satisfied: joblib>=1.0 in /opt/conda/lib/python3.10/site-packages (from hdbscan>=0.8.29->bertopic) (1.3.2)\n",
      "Requirement already satisfied: pytz>=2020.1 in /opt/conda/lib/python3.10/site-packages (from pandas>=1.1.5->bertopic) (2023.3.post1)\n",
      "Requirement already satisfied: tzdata>=2022.7 in /opt/conda/lib/python3.10/site-packages (from pandas>=1.1.5->bertopic) (2024.1)\n",
      "Requirement already satisfied: six>=1.5 in /opt/conda/lib/python3.10/site-packages (from python-dateutil>=2.7->matplotlib) (1.16.0)\n",
      "Requirement already satisfied: threadpoolctl>=2.0.0 in /opt/conda/lib/python3.10/site-packages (from scikit-learn>=0.22.2.post1->bertopic) (3.3.0)\n",
      "Requirement already satisfied: transformers<5.0.0,>=4.32.0 in /opt/conda/lib/python3.10/site-packages (from sentence-transformers>=0.4.1->bertopic) (4.38.2)\n",
      "Requirement already satisfied: torch>=1.11.0 in /opt/conda/lib/python3.10/site-packages (from sentence-transformers>=0.4.1->bertopic) (2.2.0)\n",
      "Requirement already satisfied: huggingface-hub>=0.15.1 in /opt/conda/lib/python3.10/site-packages (from sentence-transformers>=0.4.1->bertopic) (0.21.4)\n",
      "Requirement already satisfied: numba>=0.51.2 in /opt/conda/lib/python3.10/site-packages (from umap-learn>=0.5.0->bertopic) (0.59.0)\n",
      "Requirement already satisfied: pynndescent>=0.5 in /opt/conda/lib/python3.10/site-packages (from umap-learn>=0.5.0->bertopic) (0.5.11)\n",
      "Collecting Werkzeug<3.1 (from dash->jupyter-dash)\n",
      "  Downloading werkzeug-3.0.1-py3-none-any.whl.metadata (4.1 kB)\n",
      "Collecting dash-html-components==2.0.0 (from dash->jupyter-dash)\n",
      "  Downloading dash_html_components-2.0.0-py3-none-any.whl.metadata (3.8 kB)\n",
      "Collecting dash-core-components==2.0.0 (from dash->jupyter-dash)\n",
      "  Downloading dash_core_components-2.0.0-py3-none-any.whl.metadata (2.9 kB)\n",
      "Collecting dash-table==5.0.0 (from dash->jupyter-dash)\n",
      "  Downloading dash_table-5.0.0-py3-none-any.whl.metadata (2.4 kB)\n",
      "Collecting importlib-metadata (from dash->jupyter-dash)\n",
      "  Downloading importlib_metadata-7.0.2-py3-none-any.whl.metadata (4.6 kB)\n",
      "Requirement already satisfied: typing-extensions>=4.1.1 in /opt/conda/lib/python3.10/site-packages (from dash->jupyter-dash) (4.9.0)\n",
      "Requirement already satisfied: setuptools in /opt/conda/lib/python3.10/site-packages (from dash->jupyter-dash) (68.2.2)\n",
      "Requirement already satisfied: Jinja2>=3.1.2 in /opt/conda/lib/python3.10/site-packages (from flask->jupyter-dash) (3.1.2)\n",
      "Collecting itsdangerous>=2.1.2 (from flask->jupyter-dash)\n",
      "  Downloading itsdangerous-2.1.2-py3-none-any.whl.metadata (2.9 kB)\n",
      "Requirement already satisfied: click>=8.1.3 in /opt/conda/lib/python3.10/site-packages (from flask->jupyter-dash) (8.1.7)\n",
      "Collecting blinker>=1.6.2 (from flask->jupyter-dash)\n",
      "  Downloading blinker-1.7.0-py3-none-any.whl.metadata (1.9 kB)\n",
      "Requirement already satisfied: comm>=0.1.1 in /opt/conda/lib/python3.10/site-packages (from ipykernel->jupyter-dash) (0.2.1)\n",
      "Requirement already satisfied: debugpy>=1.6.5 in /opt/conda/lib/python3.10/site-packages (from ipykernel->jupyter-dash) (1.8.1)\n",
      "Requirement already satisfied: jupyter-client>=6.1.12 in /opt/conda/lib/python3.10/site-packages (from ipykernel->jupyter-dash) (8.6.0)\n",
      "Requirement already satisfied: jupyter-core!=5.0.*,>=4.12 in /opt/conda/lib/python3.10/site-packages (from ipykernel->jupyter-dash) (5.7.1)\n",
      "Requirement already satisfied: matplotlib-inline>=0.1 in /opt/conda/lib/python3.10/site-packages (from ipykernel->jupyter-dash) (0.1.6)\n",
      "Requirement already satisfied: psutil in /opt/conda/lib/python3.10/site-packages (from ipykernel->jupyter-dash) (5.9.0)\n",
      "Requirement already satisfied: pyzmq>=24 in /opt/conda/lib/python3.10/site-packages (from ipykernel->jupyter-dash) (25.1.2)\n",
      "Requirement already satisfied: tornado>=6.1 in /opt/conda/lib/python3.10/site-packages (from ipykernel->jupyter-dash) (6.4)\n",
      "Requirement already satisfied: traitlets>=5.4.0 in /opt/conda/lib/python3.10/site-packages (from ipykernel->jupyter-dash) (5.7.1)\n",
      "Requirement already satisfied: decorator in /opt/conda/lib/python3.10/site-packages (from ipython->jupyter-dash) (5.1.1)\n",
      "Requirement already satisfied: jedi>=0.16 in /opt/conda/lib/python3.10/site-packages (from ipython->jupyter-dash) (0.18.1)\n",
      "Requirement already satisfied: prompt-toolkit<3.1.0,>=3.0.41 in /opt/conda/lib/python3.10/site-packages (from ipython->jupyter-dash) (3.0.43)\n",
      "Requirement already satisfied: pygments>=2.4.0 in /opt/conda/lib/python3.10/site-packages (from ipython->jupyter-dash) (2.15.1)\n",
      "Requirement already satisfied: stack-data in /opt/conda/lib/python3.10/site-packages (from ipython->jupyter-dash) (0.2.0)\n",
      "Requirement already satisfied: exceptiongroup in /opt/conda/lib/python3.10/site-packages (from ipython->jupyter-dash) (1.2.0)\n",
      "Requirement already satisfied: pexpect>4.3 in /opt/conda/lib/python3.10/site-packages (from ipython->jupyter-dash) (4.8.0)\n",
      "Requirement already satisfied: charset-normalizer<4,>=2 in /opt/conda/lib/python3.10/site-packages (from requests->jupyter-dash) (2.0.4)\n",
      "Requirement already satisfied: idna<4,>=2.5 in /opt/conda/lib/python3.10/site-packages (from requests->jupyter-dash) (3.4)\n",
      "Requirement already satisfied: urllib3<3,>=1.21.1 in /opt/conda/lib/python3.10/site-packages (from requests->jupyter-dash) (1.26.18)\n",
      "Requirement already satisfied: certifi>=2017.4.17 in /opt/conda/lib/python3.10/site-packages (from requests->jupyter-dash) (2023.11.17)\n",
      "Requirement already satisfied: filelock in /opt/conda/lib/python3.10/site-packages (from huggingface-hub>=0.15.1->sentence-transformers>=0.4.1->bertopic) (3.13.1)\n",
      "Requirement already satisfied: fsspec>=2023.5.0 in /opt/conda/lib/python3.10/site-packages (from huggingface-hub>=0.15.1->sentence-transformers>=0.4.1->bertopic) (2023.12.2)\n",
      "Requirement already satisfied: pyyaml>=5.1 in /opt/conda/lib/python3.10/site-packages (from huggingface-hub>=0.15.1->sentence-transformers>=0.4.1->bertopic) (6.0.1)\n",
      "Requirement already satisfied: parso<0.9.0,>=0.8.0 in /opt/conda/lib/python3.10/site-packages (from jedi>=0.16->ipython->jupyter-dash) (0.8.3)\n",
      "Requirement already satisfied: MarkupSafe>=2.0 in /opt/conda/lib/python3.10/site-packages (from Jinja2>=3.1.2->flask->jupyter-dash) (2.1.3)\n",
      "Requirement already satisfied: platformdirs>=2.5 in /opt/conda/lib/python3.10/site-packages (from jupyter-core!=5.0.*,>=4.12->ipykernel->jupyter-dash) (3.10.0)\n",
      "Requirement already satisfied: llvmlite<0.43,>=0.42.0dev0 in /opt/conda/lib/python3.10/site-packages (from numba>=0.51.2->umap-learn>=0.5.0->bertopic) (0.42.0)\n",
      "Requirement already satisfied: ptyprocess>=0.5 in /opt/conda/lib/python3.10/site-packages (from pexpect>4.3->ipython->jupyter-dash) (0.7.0)\n",
      "Requirement already satisfied: wcwidth in /opt/conda/lib/python3.10/site-packages (from prompt-toolkit<3.1.0,>=3.0.41->ipython->jupyter-dash) (0.2.5)\n",
      "Requirement already satisfied: sympy in /opt/conda/lib/python3.10/site-packages (from torch>=1.11.0->sentence-transformers>=0.4.1->bertopic) (1.12)\n",
      "Requirement already satisfied: networkx in /opt/conda/lib/python3.10/site-packages (from torch>=1.11.0->sentence-transformers>=0.4.1->bertopic) (3.1)\n",
      "Requirement already satisfied: regex!=2019.12.17 in /opt/conda/lib/python3.10/site-packages (from transformers<5.0.0,>=4.32.0->sentence-transformers>=0.4.1->bertopic) (2023.12.25)\n",
      "Requirement already satisfied: tokenizers<0.19,>=0.14 in /opt/conda/lib/python3.10/site-packages (from transformers<5.0.0,>=4.32.0->sentence-transformers>=0.4.1->bertopic) (0.15.2)\n",
      "Requirement already satisfied: safetensors>=0.4.1 in /opt/conda/lib/python3.10/site-packages (from transformers<5.0.0,>=4.32.0->sentence-transformers>=0.4.1->bertopic) (0.4.2)\n",
      "Collecting zipp>=0.5 (from importlib-metadata->dash->jupyter-dash)\n",
      "  Downloading zipp-3.18.1-py3-none-any.whl.metadata (3.5 kB)\n",
      "Requirement already satisfied: executing in /opt/conda/lib/python3.10/site-packages (from stack-data->ipython->jupyter-dash) (0.8.3)\n",
      "Requirement already satisfied: asttokens in /opt/conda/lib/python3.10/site-packages (from stack-data->ipython->jupyter-dash) (2.0.5)\n",
      "Requirement already satisfied: pure-eval in /opt/conda/lib/python3.10/site-packages (from stack-data->ipython->jupyter-dash) (0.2.2)\n",
      "Requirement already satisfied: mpmath>=0.19 in /opt/conda/lib/python3.10/site-packages (from sympy->torch>=1.11.0->sentence-transformers>=0.4.1->bertopic) (1.3.0)\n",
      "Downloading jupyter_dash-0.4.2-py3-none-any.whl (23 kB)\n",
      "Downloading ansi2html-1.9.1-py3-none-any.whl (17 kB)\n",
      "Downloading dash-2.16.1-py3-none-any.whl (10.2 MB)\n",
      "\u001b[2K   \u001b[90m━━━━━━━━━━━━━━━━━━━━━━━━━━━━━━━━━━━━━━━━\u001b[0m \u001b[32m10.2/10.2 MB\u001b[0m \u001b[31m25.5 MB/s\u001b[0m eta \u001b[36m0:00:00\u001b[0m00:01\u001b[0m0:01\u001b[0m\n",
      "\u001b[?25hDownloading dash_core_components-2.0.0-py3-none-any.whl (3.8 kB)\n",
      "Downloading dash_html_components-2.0.0-py3-none-any.whl (4.1 kB)\n",
      "Downloading dash_table-5.0.0-py3-none-any.whl (3.9 kB)\n",
      "Downloading flask-3.0.2-py3-none-any.whl (101 kB)\n",
      "\u001b[2K   \u001b[90m━━━━━━━━━━━━━━━━━━━━━━━━━━━━━━━━━━━━━━━━\u001b[0m \u001b[32m101.3/101.3 kB\u001b[0m \u001b[31m13.7 MB/s\u001b[0m eta \u001b[36m0:00:00\u001b[0m\n",
      "\u001b[?25hDownloading retrying-1.3.4-py3-none-any.whl (11 kB)\n",
      "Downloading blinker-1.7.0-py3-none-any.whl (13 kB)\n",
      "Downloading itsdangerous-2.1.2-py3-none-any.whl (15 kB)\n",
      "Downloading werkzeug-3.0.1-py3-none-any.whl (226 kB)\n",
      "\u001b[2K   \u001b[90m━━━━━━━━━━━━━━━━━━━━━━━━━━━━━━━━━━━━━━━━\u001b[0m \u001b[32m226.7/226.7 kB\u001b[0m \u001b[31m29.2 MB/s\u001b[0m eta \u001b[36m0:00:00\u001b[0m\n",
      "\u001b[?25hDownloading importlib_metadata-7.0.2-py3-none-any.whl (24 kB)\n",
      "Downloading zipp-3.18.1-py3-none-any.whl (8.2 kB)\n",
      "Installing collected packages: dash-table, dash-html-components, dash-core-components, zipp, Werkzeug, retrying, itsdangerous, blinker, ansi2html, importlib-metadata, flask, dash, jupyter-dash\n",
      "Successfully installed Werkzeug-3.0.1 ansi2html-1.9.1 blinker-1.7.0 dash-2.16.1 dash-core-components-2.0.0 dash-html-components-2.0.0 dash-table-5.0.0 flask-3.0.2 importlib-metadata-7.0.2 itsdangerous-2.1.2 jupyter-dash-0.4.2 retrying-1.3.4 zipp-3.18.1\n",
      "\u001b[33mWARNING: Running pip as the 'root' user can result in broken permissions and conflicting behaviour with the system package manager. It is recommended to use a virtual environment instead: https://pip.pypa.io/warnings/venv\u001b[0m\u001b[33m\n",
      "\u001b[0mNote: you may need to restart the kernel to use updated packages.\n"
     ]
    }
   ],
   "source": [
    "pip install bertopic matplotlib plotly jupyter-dash\n"
   ]
  },
  {
   "cell_type": "code",
   "execution_count": 2,
   "id": "383a9b23-060d-48e4-98ed-eabf58cb2e2d",
   "metadata": {},
   "outputs": [],
   "source": [
    "from bertopic import BERTopic\n",
    "from datasets import load_dataset"
   ]
  },
  {
   "cell_type": "code",
   "execution_count": 15,
   "id": "6058bb61-f1fe-4e9e-b21b-908ee2810e7a",
   "metadata": {},
   "outputs": [
    {
     "data": {
      "application/vnd.jupyter.widget-view+json": {
       "model_id": "2c84383afc9045ffacf1a10f7a5177b4",
       "version_major": 2,
       "version_minor": 0
      },
      "text/plain": [
       "Downloading data:   0%|          | 0.00/141M [00:00<?, ?B/s]"
      ]
     },
     "metadata": {},
     "output_type": "display_data"
    },
    {
     "data": {
      "application/vnd.jupyter.widget-view+json": {
       "model_id": "7c3a22d35f02409cb3e01dbbadc7c9c0",
       "version_major": 2,
       "version_minor": 0
      },
      "text/plain": [
       "Generating train split:   0%|          | 0/126778 [00:00<?, ? examples/s]"
      ]
     },
     "metadata": {},
     "output_type": "display_data"
    }
   ],
   "source": [
    "dataset = load_dataset(\"mwarchalowski/grants\", \"no-shorts-no-dups\")"
   ]
  },
  {
   "cell_type": "code",
   "execution_count": 16,
   "id": "02355f0f-d00d-447d-9935-cea76bdeeed8",
   "metadata": {},
   "outputs": [
    {
     "data": {
      "text/plain": [
       "DatasetDict({\n",
       "    train: Dataset({\n",
       "        features: ['id', 'title', 'abstr', 'text_len'],\n",
       "        num_rows: 126778\n",
       "    })\n",
       "})"
      ]
     },
     "execution_count": 16,
     "metadata": {},
     "output_type": "execute_result"
    }
   ],
   "source": [
    "dataset"
   ]
  },
  {
   "cell_type": "code",
   "execution_count": 17,
   "id": "a0605d2e-2a4a-4218-915b-3963d5c9a29a",
   "metadata": {},
   "outputs": [],
   "source": [
    "train = dataset[\"train\"]"
   ]
  },
  {
   "cell_type": "code",
   "execution_count": 18,
   "id": "f74266b5-455f-47f9-92fb-e2705b881d1c",
   "metadata": {},
   "outputs": [],
   "source": [
    "ds = train.train_test_split(test_size=0.1)"
   ]
  },
  {
   "cell_type": "code",
   "execution_count": 19,
   "id": "e5994b4f-d780-4a08-a923-2654d118c4b0",
   "metadata": {},
   "outputs": [],
   "source": [
    "train = ds[\"train\"]"
   ]
  },
  {
   "cell_type": "code",
   "execution_count": 20,
   "id": "e674c9ba-52e4-4157-9600-b84e20c68f49",
   "metadata": {},
   "outputs": [],
   "source": [
    "test = ds[\"test\"]"
   ]
  },
  {
   "cell_type": "code",
   "execution_count": 21,
   "id": "1f206b35-8796-45e8-872f-dec2d5434283",
   "metadata": {},
   "outputs": [
    {
     "data": {
      "text/plain": [
       "Dataset({\n",
       "    features: ['id', 'title', 'abstr', 'text_len'],\n",
       "    num_rows: 114100\n",
       "})"
      ]
     },
     "execution_count": 21,
     "metadata": {},
     "output_type": "execute_result"
    }
   ],
   "source": [
    "train "
   ]
  },
  {
   "cell_type": "code",
   "execution_count": null,
   "id": "26db765c-c0fd-4903-b6cf-f866a36d327a",
   "metadata": {},
   "outputs": [],
   "source": [
    "topic_model = BERTopic()\n",
    "topics, probs = topic_model.fit_transform(train[\"title\"])\n"
   ]
  },
  {
   "cell_type": "code",
   "execution_count": null,
   "id": "be7358dd-37be-4301-9df3-c700c94826b1",
   "metadata": {},
   "outputs": [],
   "source": [
    "topic_model.get_topic_info().head(20)"
   ]
  },
  {
   "cell_type": "code",
   "execution_count": 33,
   "id": "bfc79f81-1045-42d9-bfa7-3fa609c1ce54",
   "metadata": {},
   "outputs": [
    {
     "data": {
      "text/plain": [
       "[('algebraic', 0.009983184649383562),\n",
       " ('theory', 0.009309345537155065),\n",
       " ('geometry', 0.009197288005800636),\n",
       " ('algebras', 0.008072213101552522),\n",
       " ('spaces', 0.007674219857996878),\n",
       " ('geometric', 0.006689633337892283),\n",
       " ('manifolds', 0.0061779421963141885),\n",
       " ('algebra', 0.005913731341414583),\n",
       " ('equations', 0.005503995950386023),\n",
       " ('conjecture', 0.005230028615373098)]"
      ]
     },
     "execution_count": 33,
     "metadata": {},
     "output_type": "execute_result"
    }
   ],
   "source": [
    "topic_model.get_topic(0)"
   ]
  },
  {
   "cell_type": "code",
   "execution_count": 37,
   "id": "d6e58319-e6ea-41f9-bec1-342aac24f2bc",
   "metadata": {},
   "outputs": [
    {
     "data": {
      "text/html": [
       "<div>\n",
       "<style scoped>\n",
       "    .dataframe tbody tr th:only-of-type {\n",
       "        vertical-align: middle;\n",
       "    }\n",
       "\n",
       "    .dataframe tbody tr th {\n",
       "        vertical-align: top;\n",
       "    }\n",
       "\n",
       "    .dataframe thead th {\n",
       "        text-align: right;\n",
       "    }\n",
       "</style>\n",
       "<table border=\"1\" class=\"dataframe\">\n",
       "  <thead>\n",
       "    <tr style=\"text-align: right;\">\n",
       "      <th></th>\n",
       "      <th>Document</th>\n",
       "      <th>Topic</th>\n",
       "      <th>Name</th>\n",
       "      <th>Representation</th>\n",
       "      <th>Representative_Docs</th>\n",
       "      <th>Top_n_words</th>\n",
       "      <th>Probability</th>\n",
       "      <th>Representative_document</th>\n",
       "    </tr>\n",
       "  </thead>\n",
       "  <tbody>\n",
       "    <tr>\n",
       "      <th>0</th>\n",
       "      <td>&amp;lt;br/&amp;gt;&amp;lt;br/&amp;gt;This USF/NSF STARS GK-12...</td>\n",
       "      <td>-1</td>\n",
       "      <td>-1_and_the_of_to</td>\n",
       "      <td>[and, the, of, to, in, for, will, on, as, be]</td>\n",
       "      <td>[About 30 hierarchically organized cortical re...</td>\n",
       "      <td>and - the - of - to - in - for - will - on - a...</td>\n",
       "      <td>0.000000</td>\n",
       "      <td>False</td>\n",
       "    </tr>\n",
       "    <tr>\n",
       "      <th>1</th>\n",
       "      <td>This research investigated the awareness of pr...</td>\n",
       "      <td>-1</td>\n",
       "      <td>-1_and_the_of_to</td>\n",
       "      <td>[and, the, of, to, in, for, will, on, as, be]</td>\n",
       "      <td>[About 30 hierarchically organized cortical re...</td>\n",
       "      <td>and - the - of - to - in - for - will - on - a...</td>\n",
       "      <td>0.000000</td>\n",
       "      <td>False</td>\n",
       "    </tr>\n",
       "    <tr>\n",
       "      <th>2</th>\n",
       "      <td>Introduction: Pregnancy puts women at a risk f...</td>\n",
       "      <td>-1</td>\n",
       "      <td>-1_and_the_of_to</td>\n",
       "      <td>[and, the, of, to, in, for, will, on, as, be]</td>\n",
       "      <td>[About 30 hierarchically organized cortical re...</td>\n",
       "      <td>and - the - of - to - in - for - will - on - a...</td>\n",
       "      <td>0.000000</td>\n",
       "      <td>False</td>\n",
       "    </tr>\n",
       "    <tr>\n",
       "      <th>3</th>\n",
       "      <td>Despite decades of research efforts, breast ca...</td>\n",
       "      <td>-1</td>\n",
       "      <td>-1_and_the_of_to</td>\n",
       "      <td>[and, the, of, to, in, for, will, on, as, be]</td>\n",
       "      <td>[About 30 hierarchically organized cortical re...</td>\n",
       "      <td>and - the - of - to - in - for - will - on - a...</td>\n",
       "      <td>0.000000</td>\n",
       "      <td>False</td>\n",
       "    </tr>\n",
       "    <tr>\n",
       "      <th>4</th>\n",
       "      <td>The Walter Reed Local Redevelopment Authority ...</td>\n",
       "      <td>98</td>\n",
       "      <td>98_jlus_military_redevelopment_lra</td>\n",
       "      <td>[jlus, military, redevelopment, lra, installat...</td>\n",
       "      <td>[The City of Killeen is serving as the sponsor...</td>\n",
       "      <td>jlus - military - redevelopment - lra - instal...</td>\n",
       "      <td>0.910349</td>\n",
       "      <td>False</td>\n",
       "    </tr>\n",
       "    <tr>\n",
       "      <th>...</th>\n",
       "      <td>...</td>\n",
       "      <td>...</td>\n",
       "      <td>...</td>\n",
       "      <td>...</td>\n",
       "      <td>...</td>\n",
       "      <td>...</td>\n",
       "      <td>...</td>\n",
       "      <td>...</td>\n",
       "    </tr>\n",
       "    <tr>\n",
       "      <th>114095</th>\n",
       "      <td>This project will examine several aspects of t...</td>\n",
       "      <td>-1</td>\n",
       "      <td>-1_and_the_of_to</td>\n",
       "      <td>[and, the, of, to, in, for, will, on, as, be]</td>\n",
       "      <td>[About 30 hierarchically organized cortical re...</td>\n",
       "      <td>and - the - of - to - in - for - will - on - a...</td>\n",
       "      <td>0.000000</td>\n",
       "      <td>False</td>\n",
       "    </tr>\n",
       "    <tr>\n",
       "      <th>114096</th>\n",
       "      <td>Rising expectations for vehicle efficiency, sa...</td>\n",
       "      <td>410</td>\n",
       "      <td>410_ev_charging_vehicle_vehicles</td>\n",
       "      <td>[ev, charging, vehicle, vehicles, electric, ev...</td>\n",
       "      <td>[Recent developments in the Electric Vehicles ...</td>\n",
       "      <td>ev - charging - vehicle - vehicles - electric ...</td>\n",
       "      <td>0.375409</td>\n",
       "      <td>True</td>\n",
       "    </tr>\n",
       "    <tr>\n",
       "      <th>114097</th>\n",
       "      <td>This is a proposal for developing and applying...</td>\n",
       "      <td>-1</td>\n",
       "      <td>-1_and_the_of_to</td>\n",
       "      <td>[and, the, of, to, in, for, will, on, as, be]</td>\n",
       "      <td>[About 30 hierarchically organized cortical re...</td>\n",
       "      <td>and - the - of - to - in - for - will - on - a...</td>\n",
       "      <td>0.000000</td>\n",
       "      <td>False</td>\n",
       "    </tr>\n",
       "    <tr>\n",
       "      <th>114098</th>\n",
       "      <td>The proposed project will study adaptability a...</td>\n",
       "      <td>306</td>\n",
       "      <td>306_salmon_fish_trout_fishes</td>\n",
       "      <td>[salmon, fish, trout, fishes, populations, atl...</td>\n",
       "      <td>[Salmon are often thought to be locally adapte...</td>\n",
       "      <td>salmon - fish - trout - fishes - populations -...</td>\n",
       "      <td>0.882453</td>\n",
       "      <td>False</td>\n",
       "    </tr>\n",
       "    <tr>\n",
       "      <th>114099</th>\n",
       "      <td>Enhanced Analysis of Time Dependent Viscous Be...</td>\n",
       "      <td>204</td>\n",
       "      <td>204_piles_geotechnical_soil_soils</td>\n",
       "      <td>[piles, geotechnical, soil, soils, pile, lique...</td>\n",
       "      <td>[Compaction methods, such as sand compaction p...</td>\n",
       "      <td>piles - geotechnical - soil - soils - pile - l...</td>\n",
       "      <td>0.834033</td>\n",
       "      <td>False</td>\n",
       "    </tr>\n",
       "  </tbody>\n",
       "</table>\n",
       "<p>114100 rows × 8 columns</p>\n",
       "</div>"
      ],
      "text/plain": [
       "                                                 Document  Topic  \\\n",
       "0       &lt;br/&gt;&lt;br/&gt;This USF/NSF STARS GK-12...     -1   \n",
       "1       This research investigated the awareness of pr...     -1   \n",
       "2       Introduction: Pregnancy puts women at a risk f...     -1   \n",
       "3       Despite decades of research efforts, breast ca...     -1   \n",
       "4       The Walter Reed Local Redevelopment Authority ...     98   \n",
       "...                                                   ...    ...   \n",
       "114095  This project will examine several aspects of t...     -1   \n",
       "114096  Rising expectations for vehicle efficiency, sa...    410   \n",
       "114097  This is a proposal for developing and applying...     -1   \n",
       "114098  The proposed project will study adaptability a...    306   \n",
       "114099  Enhanced Analysis of Time Dependent Viscous Be...    204   \n",
       "\n",
       "                                      Name  \\\n",
       "0                         -1_and_the_of_to   \n",
       "1                         -1_and_the_of_to   \n",
       "2                         -1_and_the_of_to   \n",
       "3                         -1_and_the_of_to   \n",
       "4       98_jlus_military_redevelopment_lra   \n",
       "...                                    ...   \n",
       "114095                    -1_and_the_of_to   \n",
       "114096    410_ev_charging_vehicle_vehicles   \n",
       "114097                    -1_and_the_of_to   \n",
       "114098        306_salmon_fish_trout_fishes   \n",
       "114099   204_piles_geotechnical_soil_soils   \n",
       "\n",
       "                                           Representation  \\\n",
       "0           [and, the, of, to, in, for, will, on, as, be]   \n",
       "1           [and, the, of, to, in, for, will, on, as, be]   \n",
       "2           [and, the, of, to, in, for, will, on, as, be]   \n",
       "3           [and, the, of, to, in, for, will, on, as, be]   \n",
       "4       [jlus, military, redevelopment, lra, installat...   \n",
       "...                                                   ...   \n",
       "114095      [and, the, of, to, in, for, will, on, as, be]   \n",
       "114096  [ev, charging, vehicle, vehicles, electric, ev...   \n",
       "114097      [and, the, of, to, in, for, will, on, as, be]   \n",
       "114098  [salmon, fish, trout, fishes, populations, atl...   \n",
       "114099  [piles, geotechnical, soil, soils, pile, lique...   \n",
       "\n",
       "                                      Representative_Docs  \\\n",
       "0       [About 30 hierarchically organized cortical re...   \n",
       "1       [About 30 hierarchically organized cortical re...   \n",
       "2       [About 30 hierarchically organized cortical re...   \n",
       "3       [About 30 hierarchically organized cortical re...   \n",
       "4       [The City of Killeen is serving as the sponsor...   \n",
       "...                                                   ...   \n",
       "114095  [About 30 hierarchically organized cortical re...   \n",
       "114096  [Recent developments in the Electric Vehicles ...   \n",
       "114097  [About 30 hierarchically organized cortical re...   \n",
       "114098  [Salmon are often thought to be locally adapte...   \n",
       "114099  [Compaction methods, such as sand compaction p...   \n",
       "\n",
       "                                              Top_n_words  Probability  \\\n",
       "0       and - the - of - to - in - for - will - on - a...     0.000000   \n",
       "1       and - the - of - to - in - for - will - on - a...     0.000000   \n",
       "2       and - the - of - to - in - for - will - on - a...     0.000000   \n",
       "3       and - the - of - to - in - for - will - on - a...     0.000000   \n",
       "4       jlus - military - redevelopment - lra - instal...     0.910349   \n",
       "...                                                   ...          ...   \n",
       "114095  and - the - of - to - in - for - will - on - a...     0.000000   \n",
       "114096  ev - charging - vehicle - vehicles - electric ...     0.375409   \n",
       "114097  and - the - of - to - in - for - will - on - a...     0.000000   \n",
       "114098  salmon - fish - trout - fishes - populations -...     0.882453   \n",
       "114099  piles - geotechnical - soil - soils - pile - l...     0.834033   \n",
       "\n",
       "        Representative_document  \n",
       "0                         False  \n",
       "1                         False  \n",
       "2                         False  \n",
       "3                         False  \n",
       "4                         False  \n",
       "...                         ...  \n",
       "114095                    False  \n",
       "114096                     True  \n",
       "114097                    False  \n",
       "114098                    False  \n",
       "114099                    False  \n",
       "\n",
       "[114100 rows x 8 columns]"
      ]
     },
     "execution_count": 37,
     "metadata": {},
     "output_type": "execute_result"
    }
   ],
   "source": [
    "tdocs = topic_model.get_document_info(train[\"abstr\"])\n",
    "tdocs"
   ]
  },
  {
   "cell_type": "code",
   "execution_count": 40,
   "id": "e42c9f5c-96f0-44b5-b348-8791fd06874c",
   "metadata": {},
   "outputs": [
    {
     "data": {
      "text/plain": [
       "('This research investigated the awareness of presbyacusis in the elderly. and discussed the strategies to improve the communication with them.\\n1) A hearing test was administered to 119 elderly subjects. High-frequency sensitivity was more affected than low in the elderly.\\n2) A questionnaire survey of awareness in presbyacusis was administered to 58 elderly person and 58 their families.\\n3) Percent of awareness in presbyacusis chronologically was 20% in 60-69 years, 30% in 70-79 years, 60-70% in 80-89 years.\\n4) From these research, follwings can be advised for a better communication with the elderly.\\ni) Speak slowly but not too long considering their slow cognition and limited memory.\\nii) Eliminate any noise.\\niii) Try to understand their wrong hearings since they may be consistent and organic.\\niv) Speak fairly loud.',\n",
       " 'and - the - of - to - in - for - will - on - as - be')"
      ]
     },
     "execution_count": 40,
     "metadata": {},
     "output_type": "execute_result"
    }
   ],
   "source": [
    "(tdocs[\"Document\"][1], tdocs[\"Top_n_words\"][1])"
   ]
  },
  {
   "cell_type": "code",
   "execution_count": 51,
   "id": "4a07c428-f432-4fd8-9c77-8a1dbacf696b",
   "metadata": {},
   "outputs": [],
   "source": [
    "import plotly.io as pio\n",
    "pio.renderers.default='iframe'"
   ]
  },
  {
   "cell_type": "code",
   "execution_count": 53,
   "id": "cb78da54-fa83-4c17-919a-78919080efe1",
   "metadata": {},
   "outputs": [],
   "source": [
    "fig = topic_model.visualize_topics()"
   ]
  },
  {
   "cell_type": "code",
   "execution_count": 54,
   "id": "aa01d4ee-a6c3-45c8-87fc-bec070778880",
   "metadata": {},
   "outputs": [
    {
     "data": {
      "text/html": [
       "<iframe\n",
       "    scrolling=\"no\"\n",
       "    width=\"670px\"\n",
       "    height=\"670\"\n",
       "    src=\"iframe_figures/figure_54.html\"\n",
       "    frameborder=\"0\"\n",
       "    allowfullscreen\n",
       "></iframe>\n"
      ]
     },
     "metadata": {},
     "output_type": "display_data"
    }
   ],
   "source": [
    "fig.show()"
   ]
  },
  {
   "cell_type": "code",
   "execution_count": null,
   "id": "c2b59354-fd58-422a-b724-73cc7757284d",
   "metadata": {},
   "outputs": [],
   "source": []
  }
 ],
 "metadata": {
  "kernelspec": {
   "display_name": "Python 3 (ipykernel)",
   "language": "python",
   "name": "python3"
  },
  "language_info": {
   "codemirror_mode": {
    "name": "ipython",
    "version": 3
   },
   "file_extension": ".py",
   "mimetype": "text/x-python",
   "name": "python",
   "nbconvert_exporter": "python",
   "pygments_lexer": "ipython3",
   "version": "3.10.13"
  }
 },
 "nbformat": 4,
 "nbformat_minor": 5
}
