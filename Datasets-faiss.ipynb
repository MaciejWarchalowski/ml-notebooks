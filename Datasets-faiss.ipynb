{
 "cells": [
  {
   "cell_type": "code",
   "execution_count": 1,
   "id": "a0dc816e-7dd9-4d7b-bf53-f1a19282c4a4",
   "metadata": {},
   "outputs": [],
   "source": [
    "from datasets import load_dataset"
   ]
  },
  {
   "cell_type": "code",
   "execution_count": 2,
   "id": "e73ad38c-8bb6-4f20-9da7-00a395fe61c9",
   "metadata": {},
   "outputs": [
    {
     "data": {
      "application/vnd.jupyter.widget-view+json": {
       "model_id": "5695615a9a2e4370b0d813c2988a9d80",
       "version_major": 2,
       "version_minor": 0
      },
      "text/plain": [
       "Downloading readme:   0%|          | 0.00/10.5k [00:00<?, ?B/s]"
      ]
     },
     "metadata": {},
     "output_type": "display_data"
    },
    {
     "name": "stderr",
     "output_type": "stream",
     "text": [
      "Repo card metadata block was not found. Setting CardData to empty.\n"
     ]
    },
    {
     "data": {
      "application/vnd.jupyter.widget-view+json": {
       "model_id": "eb3fb407b0a5406fb01e7feae4affc31",
       "version_major": 2,
       "version_minor": 0
      },
      "text/plain": [
       "Downloading data:   0%|          | 0.00/12.2M [00:00<?, ?B/s]"
      ]
     },
     "metadata": {},
     "output_type": "display_data"
    },
    {
     "data": {
      "application/vnd.jupyter.widget-view+json": {
       "model_id": "206ee6f159ee4dc2b590a671a8e89d8c",
       "version_major": 2,
       "version_minor": 0
      },
      "text/plain": [
       "Generating train split: 0 examples [00:00, ? examples/s]"
      ]
     },
     "metadata": {},
     "output_type": "display_data"
    },
    {
     "data": {
      "text/plain": [
       "Dataset({\n",
       "    features: ['url', 'repository_url', 'labels_url', 'comments_url', 'events_url', 'html_url', 'id', 'node_id', 'number', 'title', 'user', 'labels', 'state', 'locked', 'assignee', 'assignees', 'milestone', 'comments', 'created_at', 'updated_at', 'closed_at', 'author_association', 'active_lock_reason', 'pull_request', 'body', 'timeline_url', 'performed_via_github_app', 'is_pull_request'],\n",
       "    num_rows: 3019\n",
       "})"
      ]
     },
     "execution_count": 2,
     "metadata": {},
     "output_type": "execute_result"
    }
   ],
   "source": [
    "issues_dataset = load_dataset(\"lewtun/github-issues\", split=\"train\")\n",
    "issues_dataset\n"
   ]
  },
  {
   "cell_type": "code",
   "execution_count": 3,
   "id": "fafa1adb-33ff-41a2-a1c1-655c9bb5fae4",
   "metadata": {},
   "outputs": [
    {
     "data": {
      "application/vnd.jupyter.widget-view+json": {
       "model_id": "38120c56b0de4b5e94cf01082d0e67d1",
       "version_major": 2,
       "version_minor": 0
      },
      "text/plain": [
       "Filter:   0%|          | 0/3019 [00:00<?, ? examples/s]"
      ]
     },
     "metadata": {},
     "output_type": "display_data"
    },
    {
     "data": {
      "text/plain": [
       "Dataset({\n",
       "    features: ['url', 'repository_url', 'labels_url', 'comments_url', 'events_url', 'html_url', 'id', 'node_id', 'number', 'title', 'user', 'labels', 'state', 'locked', 'assignee', 'assignees', 'milestone', 'comments', 'created_at', 'updated_at', 'closed_at', 'author_association', 'active_lock_reason', 'pull_request', 'body', 'timeline_url', 'performed_via_github_app', 'is_pull_request'],\n",
       "    num_rows: 808\n",
       "})"
      ]
     },
     "execution_count": 3,
     "metadata": {},
     "output_type": "execute_result"
    }
   ],
   "source": [
    "issues_dataset = issues_dataset.filter(\n",
    "    lambda x: (x[\"is_pull_request\"] == False and len(x[\"comments\"]) > 0)\n",
    ")\n",
    "issues_dataset\n"
   ]
  },
  {
   "cell_type": "code",
   "execution_count": 4,
   "id": "b9528de6-eab5-4eb2-b868-bc8cf9384a79",
   "metadata": {},
   "outputs": [
    {
     "data": {
      "text/plain": [
       "Dataset({\n",
       "    features: ['html_url', 'title', 'comments', 'body'],\n",
       "    num_rows: 808\n",
       "})"
      ]
     },
     "execution_count": 4,
     "metadata": {},
     "output_type": "execute_result"
    }
   ],
   "source": [
    "columns = issues_dataset.column_names\n",
    "columns_to_keep = [\"title\", \"body\", \"html_url\", \"comments\"]\n",
    "columns_to_remove = set(columns_to_keep).symmetric_difference(columns)\n",
    "issues_dataset = issues_dataset.remove_columns(columns_to_remove)\n",
    "issues_dataset\n"
   ]
  },
  {
   "cell_type": "code",
   "execution_count": 25,
   "id": "17bd871d-6875-46a2-823f-b0476968cbd3",
   "metadata": {},
   "outputs": [
    {
     "data": {
      "text/plain": [
       "{'html_url': Value(dtype='string', id=None),\n",
       " 'title': Value(dtype='string', id=None),\n",
       " 'comments': Sequence(feature=Value(dtype='string', id=None), length=-1, id=None),\n",
       " 'body': Value(dtype='string', id=None)}"
      ]
     },
     "execution_count": 25,
     "metadata": {},
     "output_type": "execute_result"
    }
   ],
   "source": [
    "issues_dataset.features"
   ]
  },
  {
   "cell_type": "markdown",
   "id": "3036d8a7-8eb1-42f4-9c3c-da14db813939",
   "metadata": {},
   "source": [
    "To create our embeddings we’ll augment each comment with the issue’s title and body, since these fields often include useful contextual information. Because our comments column is currently a list of comments for each issue, we need to “explode” the column so that each row consists of an (html_url, title, body, comment) tuple. In Pandas we can do this with the DataFrame.explode() function, which creates a new row for each element in a list-like column, while replicating all the other column values. To see this in action, let’s first switch to the Pandas DataFrame format:\n",
    "\n"
   ]
  },
  {
   "cell_type": "code",
   "execution_count": 10,
   "id": "f0feeaaa-c324-4f63-b8f1-13eac1e36a47",
   "metadata": {},
   "outputs": [],
   "source": [
    "issues_dataset.set_format(\"pandas\")\n",
    "df = issues_dataset[:]\n"
   ]
  },
  {
   "cell_type": "code",
   "execution_count": 13,
   "id": "c4b1b182-8bdb-4168-a24d-7925f7206780",
   "metadata": {},
   "outputs": [
    {
     "data": {
      "text/html": [
       "<div>\n",
       "<style scoped>\n",
       "    .dataframe tbody tr th:only-of-type {\n",
       "        vertical-align: middle;\n",
       "    }\n",
       "\n",
       "    .dataframe tbody tr th {\n",
       "        vertical-align: top;\n",
       "    }\n",
       "\n",
       "    .dataframe thead th {\n",
       "        text-align: right;\n",
       "    }\n",
       "</style>\n",
       "<table border=\"1\" class=\"dataframe\">\n",
       "  <thead>\n",
       "    <tr style=\"text-align: right;\">\n",
       "      <th></th>\n",
       "      <th>html_url</th>\n",
       "      <th>title</th>\n",
       "      <th>comments</th>\n",
       "      <th>body</th>\n",
       "    </tr>\n",
       "  </thead>\n",
       "  <tbody>\n",
       "    <tr>\n",
       "      <th>0</th>\n",
       "      <td>https://github.com/huggingface/datasets/issues...</td>\n",
       "      <td>Protect master branch</td>\n",
       "      <td>[Cool, I think we can do both :), @lhoestq now...</td>\n",
       "      <td>After accidental merge commit (91c55355b634d0d...</td>\n",
       "    </tr>\n",
       "    <tr>\n",
       "      <th>1</th>\n",
       "      <td>https://github.com/huggingface/datasets/issues...</td>\n",
       "      <td>Backwards compatibility broken for cached data...</td>\n",
       "      <td>[Hi ! I guess the caching mechanism should hav...</td>\n",
       "      <td>## Describe the bug\\r\\nAfter upgrading to data...</td>\n",
       "    </tr>\n",
       "    <tr>\n",
       "      <th>2</th>\n",
       "      <td>https://github.com/huggingface/datasets/issues...</td>\n",
       "      <td>OSCAR unshuffled_original_ko: NonMatchingSplit...</td>\n",
       "      <td>[I tried `unshuffled_original_da` and it is al...</td>\n",
       "      <td>## Describe the bug\\r\\n\\r\\nCannot download OSC...</td>\n",
       "    </tr>\n",
       "    <tr>\n",
       "      <th>3</th>\n",
       "      <td>https://github.com/huggingface/datasets/issues...</td>\n",
       "      <td>load_dataset using default cache on Windows ca...</td>\n",
       "      <td>[Hi @daqieq, thanks for reporting.\\r\\n\\r\\nUnfo...</td>\n",
       "      <td>## Describe the bug\\r\\nStandard process to dow...</td>\n",
       "    </tr>\n",
       "    <tr>\n",
       "      <th>4</th>\n",
       "      <td>https://github.com/huggingface/datasets/issues...</td>\n",
       "      <td>to_tf_dataset keeps a reference to the open da...</td>\n",
       "      <td>[I did some investigation and, as it seems, th...</td>\n",
       "      <td>To reproduce:\\r\\n```python\\r\\nimport datasets ...</td>\n",
       "    </tr>\n",
       "  </tbody>\n",
       "</table>\n",
       "</div>"
      ],
      "text/plain": [
       "                                            html_url  \\\n",
       "0  https://github.com/huggingface/datasets/issues...   \n",
       "1  https://github.com/huggingface/datasets/issues...   \n",
       "2  https://github.com/huggingface/datasets/issues...   \n",
       "3  https://github.com/huggingface/datasets/issues...   \n",
       "4  https://github.com/huggingface/datasets/issues...   \n",
       "\n",
       "                                               title  \\\n",
       "0                              Protect master branch   \n",
       "1  Backwards compatibility broken for cached data...   \n",
       "2  OSCAR unshuffled_original_ko: NonMatchingSplit...   \n",
       "3  load_dataset using default cache on Windows ca...   \n",
       "4  to_tf_dataset keeps a reference to the open da...   \n",
       "\n",
       "                                            comments  \\\n",
       "0  [Cool, I think we can do both :), @lhoestq now...   \n",
       "1  [Hi ! I guess the caching mechanism should hav...   \n",
       "2  [I tried `unshuffled_original_da` and it is al...   \n",
       "3  [Hi @daqieq, thanks for reporting.\\r\\n\\r\\nUnfo...   \n",
       "4  [I did some investigation and, as it seems, th...   \n",
       "\n",
       "                                                body  \n",
       "0  After accidental merge commit (91c55355b634d0d...  \n",
       "1  ## Describe the bug\\r\\nAfter upgrading to data...  \n",
       "2  ## Describe the bug\\r\\n\\r\\nCannot download OSC...  \n",
       "3  ## Describe the bug\\r\\nStandard process to dow...  \n",
       "4  To reproduce:\\r\\n```python\\r\\nimport datasets ...  "
      ]
     },
     "execution_count": 13,
     "metadata": {},
     "output_type": "execute_result"
    }
   ],
   "source": [
    "df.head()"
   ]
  },
  {
   "cell_type": "code",
   "execution_count": 20,
   "id": "03b1430d-2892-45dd-b65a-22db0d11c5d0",
   "metadata": {},
   "outputs": [
    {
     "data": {
      "text/plain": [
       "['Cool, I think we can do both :)',\n",
       " '@lhoestq now the 2 are implemented.\\r\\n\\r\\nPlease note that for the the second protection, finally I have chosen to protect the master branch only from **merge commits** (see update comment above), so no need to disable/re-enable the protection on each release (direct commits, different from merge commits, can be pushed to the remote master branch; and eventually reverted without messing up the repo history).']"
      ]
     },
     "execution_count": 20,
     "metadata": {},
     "output_type": "execute_result"
    }
   ],
   "source": [
    "df[\"comments\"][0].tolist()"
   ]
  },
  {
   "cell_type": "code",
   "execution_count": 22,
   "id": "23546900-da97-47fb-af64-77c41ab2b96d",
   "metadata": {},
   "outputs": [
    {
     "data": {
      "text/plain": [
       "2"
      ]
     },
     "execution_count": 22,
     "metadata": {},
     "output_type": "execute_result"
    }
   ],
   "source": [
    "len(df[\"comments\"][0])"
   ]
  },
  {
   "cell_type": "code",
   "execution_count": 24,
   "id": "cef01745-bb8e-45af-bafc-8949b90ca674",
   "metadata": {},
   "outputs": [
    {
     "data": {
      "text/html": [
       "<div>\n",
       "<style scoped>\n",
       "    .dataframe tbody tr th:only-of-type {\n",
       "        vertical-align: middle;\n",
       "    }\n",
       "\n",
       "    .dataframe tbody tr th {\n",
       "        vertical-align: top;\n",
       "    }\n",
       "\n",
       "    .dataframe thead th {\n",
       "        text-align: right;\n",
       "    }\n",
       "</style>\n",
       "<table border=\"1\" class=\"dataframe\">\n",
       "  <thead>\n",
       "    <tr style=\"text-align: right;\">\n",
       "      <th></th>\n",
       "      <th>html_url</th>\n",
       "      <th>title</th>\n",
       "      <th>comments</th>\n",
       "      <th>body</th>\n",
       "    </tr>\n",
       "  </thead>\n",
       "  <tbody>\n",
       "    <tr>\n",
       "      <th>0</th>\n",
       "      <td>https://github.com/huggingface/datasets/issues...</td>\n",
       "      <td>Protect master branch</td>\n",
       "      <td>Cool, I think we can do both :)</td>\n",
       "      <td>After accidental merge commit (91c55355b634d0d...</td>\n",
       "    </tr>\n",
       "    <tr>\n",
       "      <th>1</th>\n",
       "      <td>https://github.com/huggingface/datasets/issues...</td>\n",
       "      <td>Protect master branch</td>\n",
       "      <td>@lhoestq now the 2 are implemented.\\r\\n\\r\\nPle...</td>\n",
       "      <td>After accidental merge commit (91c55355b634d0d...</td>\n",
       "    </tr>\n",
       "    <tr>\n",
       "      <th>2</th>\n",
       "      <td>https://github.com/huggingface/datasets/issues...</td>\n",
       "      <td>Backwards compatibility broken for cached data...</td>\n",
       "      <td>Hi ! I guess the caching mechanism should have...</td>\n",
       "      <td>## Describe the bug\\r\\nAfter upgrading to data...</td>\n",
       "    </tr>\n",
       "    <tr>\n",
       "      <th>3</th>\n",
       "      <td>https://github.com/huggingface/datasets/issues...</td>\n",
       "      <td>Backwards compatibility broken for cached data...</td>\n",
       "      <td>If it's easy enough to implement, then yes ple...</td>\n",
       "      <td>## Describe the bug\\r\\nAfter upgrading to data...</td>\n",
       "    </tr>\n",
       "  </tbody>\n",
       "</table>\n",
       "</div>"
      ],
      "text/plain": [
       "                                            html_url  \\\n",
       "0  https://github.com/huggingface/datasets/issues...   \n",
       "1  https://github.com/huggingface/datasets/issues...   \n",
       "2  https://github.com/huggingface/datasets/issues...   \n",
       "3  https://github.com/huggingface/datasets/issues...   \n",
       "\n",
       "                                               title  \\\n",
       "0                              Protect master branch   \n",
       "1                              Protect master branch   \n",
       "2  Backwards compatibility broken for cached data...   \n",
       "3  Backwards compatibility broken for cached data...   \n",
       "\n",
       "                                            comments  \\\n",
       "0                    Cool, I think we can do both :)   \n",
       "1  @lhoestq now the 2 are implemented.\\r\\n\\r\\nPle...   \n",
       "2  Hi ! I guess the caching mechanism should have...   \n",
       "3  If it's easy enough to implement, then yes ple...   \n",
       "\n",
       "                                                body  \n",
       "0  After accidental merge commit (91c55355b634d0d...  \n",
       "1  After accidental merge commit (91c55355b634d0d...  \n",
       "2  ## Describe the bug\\r\\nAfter upgrading to data...  \n",
       "3  ## Describe the bug\\r\\nAfter upgrading to data...  "
      ]
     },
     "execution_count": 24,
     "metadata": {},
     "output_type": "execute_result"
    }
   ],
   "source": [
    "comments_df = df.explode(\"comments\", ignore_index=True)\n",
    "comments_df.head(4)"
   ]
  },
  {
   "cell_type": "code",
   "execution_count": 27,
   "id": "b5adb5c2-d2b7-4be2-a400-1d70595854ee",
   "metadata": {},
   "outputs": [
    {
     "data": {
      "text/plain": [
       "Dataset({\n",
       "    features: ['html_url', 'title', 'comments', 'body'],\n",
       "    num_rows: 2964\n",
       "})"
      ]
     },
     "execution_count": 27,
     "metadata": {},
     "output_type": "execute_result"
    }
   ],
   "source": [
    "from datasets import Dataset\n",
    "comments_dataset = Dataset.from_pandas(comments_df)\n",
    "comments_dataset\n"
   ]
  },
  {
   "cell_type": "code",
   "execution_count": 28,
   "id": "e1ea4da6-57a9-4d18-9bfe-2e26fbbfae5d",
   "metadata": {},
   "outputs": [
    {
     "data": {
      "application/vnd.jupyter.widget-view+json": {
       "model_id": "c73935a0a24e4ee0927539b9649df51c",
       "version_major": 2,
       "version_minor": 0
      },
      "text/plain": [
       "Map:   0%|          | 0/2964 [00:00<?, ? examples/s]"
      ]
     },
     "metadata": {},
     "output_type": "display_data"
    }
   ],
   "source": [
    "comments_dataset = comments_dataset.map(\n",
    "    lambda x: {\"comment_length\": len(x[\"comments\"].split())}\n",
    ")\n"
   ]
  },
  {
   "cell_type": "code",
   "execution_count": 29,
   "id": "ca63d53f-e820-442d-bb28-aab3b5062cb9",
   "metadata": {},
   "outputs": [
    {
     "data": {
      "application/vnd.jupyter.widget-view+json": {
       "model_id": "6b2b431cc44047f5be6426aaa30ddd88",
       "version_major": 2,
       "version_minor": 0
      },
      "text/plain": [
       "Filter:   0%|          | 0/2964 [00:00<?, ? examples/s]"
      ]
     },
     "metadata": {},
     "output_type": "display_data"
    },
    {
     "data": {
      "text/plain": [
       "Dataset({\n",
       "    features: ['html_url', 'title', 'comments', 'body', 'comment_length'],\n",
       "    num_rows: 2175\n",
       "})"
      ]
     },
     "execution_count": 29,
     "metadata": {},
     "output_type": "execute_result"
    }
   ],
   "source": [
    "comments_dataset = comments_dataset.filter(lambda x: x[\"comment_length\"] > 15)\n",
    "comments_dataset\n"
   ]
  },
  {
   "cell_type": "code",
   "execution_count": 30,
   "id": "7481a7b4-2562-4e56-a69f-4471dbfc7b84",
   "metadata": {},
   "outputs": [
    {
     "data": {
      "application/vnd.jupyter.widget-view+json": {
       "model_id": "2c27d09d83514434b508d9e43f66fcf9",
       "version_major": 2,
       "version_minor": 0
      },
      "text/plain": [
       "Map:   0%|          | 0/2175 [00:00<?, ? examples/s]"
      ]
     },
     "metadata": {},
     "output_type": "display_data"
    }
   ],
   "source": [
    "def concatenate_text(examples):\n",
    "    return {\n",
    "        \"text\": examples[\"title\"]\n",
    "        + \" \\n \"\n",
    "        + examples[\"body\"]\n",
    "        + \" \\n \"\n",
    "        + examples[\"comments\"]\n",
    "    }\n",
    "\n",
    "\n",
    "comments_dataset = comments_dataset.map(concatenate_text)\n"
   ]
  },
  {
   "cell_type": "code",
   "execution_count": 33,
   "id": "c21b048e-0e8c-4889-9dba-504f93b4f7a3",
   "metadata": {},
   "outputs": [
    {
     "data": {
      "application/vnd.jupyter.widget-view+json": {
       "model_id": "e79bf08cb1524f63b7502e8e54c3cd39",
       "version_major": 2,
       "version_minor": 0
      },
      "text/plain": [
       "tokenizer_config.json:   0%|          | 0.00/363 [00:00<?, ?B/s]"
      ]
     },
     "metadata": {},
     "output_type": "display_data"
    },
    {
     "data": {
      "application/vnd.jupyter.widget-view+json": {
       "model_id": "1094da1cc37747d59eef94993298b70a",
       "version_major": 2,
       "version_minor": 0
      },
      "text/plain": [
       "vocab.txt:   0%|          | 0.00/232k [00:00<?, ?B/s]"
      ]
     },
     "metadata": {},
     "output_type": "display_data"
    },
    {
     "data": {
      "application/vnd.jupyter.widget-view+json": {
       "model_id": "4915a3f9c08343e1936bc6cc05b526d4",
       "version_major": 2,
       "version_minor": 0
      },
      "text/plain": [
       "tokenizer.json:   0%|          | 0.00/466k [00:00<?, ?B/s]"
      ]
     },
     "metadata": {},
     "output_type": "display_data"
    },
    {
     "data": {
      "application/vnd.jupyter.widget-view+json": {
       "model_id": "077e1a8708d9427db8bdcc9d0050c917",
       "version_major": 2,
       "version_minor": 0
      },
      "text/plain": [
       "special_tokens_map.json:   0%|          | 0.00/239 [00:00<?, ?B/s]"
      ]
     },
     "metadata": {},
     "output_type": "display_data"
    },
    {
     "data": {
      "application/vnd.jupyter.widget-view+json": {
       "model_id": "fffa9a4ce4ba4d898d144053b919b445",
       "version_major": 2,
       "version_minor": 0
      },
      "text/plain": [
       "config.json:   0%|          | 0.00/571 [00:00<?, ?B/s]"
      ]
     },
     "metadata": {},
     "output_type": "display_data"
    },
    {
     "data": {
      "application/vnd.jupyter.widget-view+json": {
       "model_id": "4fea6765566c4188aebcb5adb24992ef",
       "version_major": 2,
       "version_minor": 0
      },
      "text/plain": [
       "pytorch_model.bin:   0%|          | 0.00/438M [00:00<?, ?B/s]"
      ]
     },
     "metadata": {},
     "output_type": "display_data"
    }
   ],
   "source": [
    "from transformers import AutoTokenizer, AutoModel\n",
    "\n",
    "model_ckpt = \"sentence-transformers/multi-qa-mpnet-base-dot-v1\"\n",
    "tokenizer = AutoTokenizer.from_pretrained(model_ckpt)\n",
    "model = AutoModel.from_pretrained(model_ckpt)\n"
   ]
  },
  {
   "cell_type": "code",
   "execution_count": 35,
   "id": "24cee3b7-f410-412d-8de4-3403d02bdf8e",
   "metadata": {},
   "outputs": [
    {
     "data": {
      "text/plain": [
       "MPNetModel(\n",
       "  (embeddings): MPNetEmbeddings(\n",
       "    (word_embeddings): Embedding(30527, 768, padding_idx=1)\n",
       "    (position_embeddings): Embedding(514, 768, padding_idx=1)\n",
       "    (LayerNorm): LayerNorm((768,), eps=1e-05, elementwise_affine=True)\n",
       "    (dropout): Dropout(p=0.1, inplace=False)\n",
       "  )\n",
       "  (encoder): MPNetEncoder(\n",
       "    (layer): ModuleList(\n",
       "      (0-11): 12 x MPNetLayer(\n",
       "        (attention): MPNetAttention(\n",
       "          (attn): MPNetSelfAttention(\n",
       "            (q): Linear(in_features=768, out_features=768, bias=True)\n",
       "            (k): Linear(in_features=768, out_features=768, bias=True)\n",
       "            (v): Linear(in_features=768, out_features=768, bias=True)\n",
       "            (o): Linear(in_features=768, out_features=768, bias=True)\n",
       "            (dropout): Dropout(p=0.1, inplace=False)\n",
       "          )\n",
       "          (LayerNorm): LayerNorm((768,), eps=1e-05, elementwise_affine=True)\n",
       "          (dropout): Dropout(p=0.1, inplace=False)\n",
       "        )\n",
       "        (intermediate): MPNetIntermediate(\n",
       "          (dense): Linear(in_features=768, out_features=3072, bias=True)\n",
       "          (intermediate_act_fn): GELUActivation()\n",
       "        )\n",
       "        (output): MPNetOutput(\n",
       "          (dense): Linear(in_features=3072, out_features=768, bias=True)\n",
       "          (LayerNorm): LayerNorm((768,), eps=1e-05, elementwise_affine=True)\n",
       "          (dropout): Dropout(p=0.1, inplace=False)\n",
       "        )\n",
       "      )\n",
       "    )\n",
       "    (relative_attention_bias): Embedding(32, 12)\n",
       "  )\n",
       "  (pooler): MPNetPooler(\n",
       "    (dense): Linear(in_features=768, out_features=768, bias=True)\n",
       "    (activation): Tanh()\n",
       "  )\n",
       ")"
      ]
     },
     "execution_count": 35,
     "metadata": {},
     "output_type": "execute_result"
    }
   ],
   "source": [
    "import torch\n",
    "\n",
    "device = torch.device(\"cuda\")\n",
    "model.to(device)\n"
   ]
  },
  {
   "cell_type": "code",
   "execution_count": 36,
   "id": "f2de1c59-2d45-4151-9c66-ceabfb574b37",
   "metadata": {},
   "outputs": [],
   "source": [
    "def cls_pooling(model_output):\n",
    "    return model_output.last_hidden_state[:, 0]\n"
   ]
  },
  {
   "cell_type": "code",
   "execution_count": 37,
   "id": "5913ec93-a350-40a8-ac66-41f420969519",
   "metadata": {},
   "outputs": [],
   "source": [
    "def get_embeddings(text_list):\n",
    "    encoded_input = tokenizer(\n",
    "        text_list, padding=True, truncation=True, return_tensors=\"pt\"\n",
    "    )\n",
    "    encoded_input = {k: v.to(device) for k, v in encoded_input.items()}\n",
    "    model_output = model(**encoded_input)\n",
    "    return cls_pooling(model_output)\n"
   ]
  },
  {
   "cell_type": "code",
   "execution_count": 38,
   "id": "5ba438f6-b7f1-43a6-abdb-54db75f13556",
   "metadata": {},
   "outputs": [
    {
     "data": {
      "text/plain": [
       "torch.Size([1, 768])"
      ]
     },
     "execution_count": 38,
     "metadata": {},
     "output_type": "execute_result"
    }
   ],
   "source": [
    "embedding = get_embeddings(comments_dataset[\"text\"][0])\n",
    "embedding.shape\n"
   ]
  },
  {
   "cell_type": "code",
   "execution_count": 56,
   "id": "6c02f6d7-ec36-488f-b6ff-3f0909ea6fe4",
   "metadata": {},
   "outputs": [
    {
     "data": {
      "text/plain": [
       "BaseModelOutputWithPooling(last_hidden_state=tensor([[[-0.1553, -0.1002, -0.0703,  ..., -0.1528,  0.0612, -0.1988],\n",
       "         [-0.0891,  0.1134, -0.1676,  ..., -0.1866,  0.0705, -0.1669],\n",
       "         [-0.1296, -0.1228, -0.1303,  ..., -0.3267, -0.0007, -0.0561],\n",
       "         ...,\n",
       "         [-0.1478, -0.1380, -0.1511,  ...,  0.0977,  0.0979, -0.0089],\n",
       "         [-0.2212, -0.0485, -0.1249,  ..., -0.1833,  0.0570, -0.1370],\n",
       "         [-0.1944, -0.0941, -0.1198,  ..., -0.1717,  0.0724, -0.1858]]],\n",
       "       grad_fn=<NativeLayerNormBackward0>), pooler_output=tensor([[-5.4309e-02,  1.1577e-01,  4.7390e-02, -1.3874e-01, -1.2280e-01,\n",
       "          4.4626e-03, -8.9382e-02,  2.1351e-02, -2.2854e-01, -1.0024e-02,\n",
       "          8.2839e-02, -3.8952e-01,  1.5894e-01,  1.0437e-01, -1.2796e-01,\n",
       "          3.7392e-02, -9.1422e-02,  1.8316e-02,  9.2021e-02, -1.0009e-02,\n",
       "         -8.4700e-02,  8.7895e-02, -1.2531e-01,  8.7263e-02,  9.0298e-02,\n",
       "          2.1494e-01,  1.3781e-02,  2.1407e-01,  1.8149e-01, -4.7287e-02,\n",
       "         -5.5840e-02, -1.6123e-01, -3.5515e-04,  1.3839e-01,  1.1777e-01,\n",
       "          9.3523e-02, -1.2362e-01,  2.2852e-03, -2.1963e-01,  1.9489e-02,\n",
       "         -2.0682e-01,  7.6357e-02, -2.2307e-01, -1.1786e-03,  1.5569e-01,\n",
       "          1.7615e-01, -3.8199e-02, -7.1065e-02,  1.5667e-01,  7.9323e-02,\n",
       "         -2.0622e-01,  1.3962e-01, -5.9654e-02, -1.5335e-01,  9.0755e-02,\n",
       "          1.9720e-01, -1.6641e-02,  8.8227e-02,  8.1245e-02, -2.1821e-01,\n",
       "         -8.8803e-02,  1.2908e-01,  1.5203e-01, -5.0065e-02, -1.4226e-01,\n",
       "         -1.2990e-01,  9.1213e-02,  4.1902e-02,  1.6897e-01,  1.1445e-01,\n",
       "         -1.4940e-01,  1.4636e-01, -9.6831e-02,  1.6665e-01,  1.0608e-01,\n",
       "         -4.5578e-02, -4.3841e-03,  5.0486e-02, -1.0929e-01,  1.7414e-01,\n",
       "          2.6909e-02, -5.0355e-02,  7.6667e-02,  9.7114e-02, -2.3738e-02,\n",
       "          2.7980e-01,  2.4821e-01,  1.0345e-01,  1.1220e-01,  1.2330e-01,\n",
       "          2.1074e-01, -1.1574e-01, -2.0850e-02,  1.6801e-01, -6.8606e-02,\n",
       "          2.9645e-02,  1.0028e-02, -1.2834e-01,  8.6702e-02,  1.6825e-01,\n",
       "          9.8435e-02, -1.1102e-01, -1.0359e-01, -8.9981e-02,  8.3656e-02,\n",
       "         -8.0975e-03,  1.3854e-01, -1.9469e-01,  9.2384e-02, -1.4799e-01,\n",
       "          2.3960e-01, -9.4273e-02, -1.9652e-02,  1.3429e-01,  7.1665e-02,\n",
       "         -9.9328e-02, -2.0624e-01, -5.6190e-02, -1.4508e-01,  2.4269e-01,\n",
       "         -1.5323e-01, -3.3024e-02, -1.5030e-01,  2.3188e-01,  8.5151e-02,\n",
       "          1.3021e-01, -9.6866e-02, -1.3294e-01, -6.5267e-02, -1.1270e-01,\n",
       "          4.5504e-02, -6.7161e-02,  1.7746e-01, -4.9003e-02, -8.1604e-02,\n",
       "          1.9589e-01, -1.0034e-01, -2.4844e-01, -1.8720e-01, -1.0664e-02,\n",
       "         -8.9561e-02,  5.7054e-02, -6.6946e-02, -7.0912e-03,  5.5430e-02,\n",
       "          1.0682e-01,  1.6252e-01,  8.0611e-02,  2.0888e-02, -1.0463e-01,\n",
       "          1.0468e-01, -1.8631e-02, -5.1307e-02,  2.8592e-01,  2.8532e-01,\n",
       "         -3.4662e-01, -1.0992e-01,  1.1733e-01, -4.4548e-03,  1.0435e-02,\n",
       "          6.3768e-02, -1.0756e-01,  2.1749e-03, -1.6014e-01,  4.3452e-03,\n",
       "         -1.3146e-02, -9.3165e-02,  1.6261e-02, -4.0509e-02,  4.3651e-02,\n",
       "          1.3537e-01, -1.0952e-01, -3.2426e-02,  5.5018e-02,  1.3629e-02,\n",
       "         -1.4815e-01,  2.3233e-01,  1.3539e-02, -4.3839e-03, -1.6296e-02,\n",
       "         -2.9015e-02, -2.6333e-01, -2.3156e-01,  1.7682e-01, -3.0138e-02,\n",
       "         -4.0993e-02,  1.3894e-01,  2.7163e-02, -5.3330e-02,  1.7619e-02,\n",
       "         -1.6384e-01, -1.3542e-01,  1.3617e-02, -1.2823e-01, -7.3988e-02,\n",
       "         -1.3534e-01, -2.6030e-02,  2.7954e-01, -7.5287e-02,  3.6703e-02,\n",
       "         -6.9578e-02, -1.4934e-01,  1.1232e-01, -9.4726e-02,  1.2067e-01,\n",
       "         -1.4625e-01,  2.5191e-01,  2.2495e-01,  1.8137e-02, -5.0689e-02,\n",
       "         -1.0004e-01, -2.3361e-01,  3.7099e-02,  5.7423e-02,  8.7453e-02,\n",
       "         -2.4428e-01,  9.0842e-02,  1.5228e-01, -5.6128e-02, -1.6656e-02,\n",
       "          2.3518e-02, -2.8366e-01, -7.0801e-02,  8.1669e-02, -1.2351e-01,\n",
       "          2.2834e-01,  2.8989e-02, -1.1147e-01, -7.8489e-03,  2.6039e-01,\n",
       "          8.9863e-02,  6.1965e-02,  2.6718e-02, -6.6184e-02, -1.3426e-01,\n",
       "         -2.1714e-01, -3.3385e-01, -8.3674e-02, -7.5032e-02, -6.2747e-03,\n",
       "          4.0279e-03,  2.1239e-01, -6.3483e-02,  4.2852e-02,  1.0868e-01,\n",
       "         -1.9132e-01, -2.1649e-01, -3.2685e-02,  4.5302e-02,  2.0976e-01,\n",
       "          2.4069e-02, -1.2504e-01,  8.3930e-02,  1.1218e-01, -2.4164e-02,\n",
       "         -2.0112e-01,  7.1118e-02, -1.2828e-01,  4.0631e-02,  1.9408e-02,\n",
       "         -1.5479e-01, -1.6289e-01, -2.1400e-01,  1.1932e-01,  4.1857e-02,\n",
       "         -1.5676e-02,  1.8969e-01, -2.6340e-02,  1.8334e-02, -1.4209e-01,\n",
       "         -2.8034e-02, -1.5032e-01,  4.1757e-02, -1.5889e-02,  2.6091e-02,\n",
       "          1.4086e-01,  2.2781e-01, -1.4287e-01, -4.1763e-02, -3.3704e-02,\n",
       "          6.7100e-02, -1.3006e-01, -4.1991e-02,  1.9977e-01,  3.1241e-02,\n",
       "         -9.4281e-02,  1.6048e-01,  7.0500e-02, -5.6402e-02, -1.4655e-01,\n",
       "          1.2769e-01, -1.5754e-02,  2.3685e-01,  8.5620e-02,  5.1016e-02,\n",
       "         -4.6088e-02, -4.3110e-02, -2.7152e-01, -1.1131e-01,  1.1510e-01,\n",
       "         -4.9499e-02, -1.1918e-01,  2.0298e-02,  2.2022e-01,  2.3760e-02,\n",
       "         -2.0456e-01, -1.3605e-01, -8.8297e-02, -3.7863e-02, -1.1172e-01,\n",
       "          5.9418e-02,  1.8442e-01, -1.7213e-01,  6.4120e-02,  3.7815e-02,\n",
       "          1.1257e-02, -1.7369e-04, -6.2314e-02, -7.9288e-02, -4.4102e-01,\n",
       "         -2.7301e-02,  2.4569e-01, -8.6305e-04, -1.7570e-02, -9.3904e-02,\n",
       "          5.4474e-02, -1.8933e-01, -4.4865e-02, -1.1793e-02, -6.2190e-02,\n",
       "          2.5593e-02, -1.1028e-01, -2.8926e-02, -1.5506e-02,  1.9593e-01,\n",
       "         -7.0542e-02,  2.5478e-01,  7.3381e-02, -2.9304e-01,  3.1549e-01,\n",
       "         -1.0089e-01, -5.3637e-02,  8.6989e-02,  2.3297e-02,  7.4774e-02,\n",
       "          2.6746e-02, -1.4483e-01,  1.2426e-01,  1.1671e-01, -1.9315e-01,\n",
       "          1.5209e-01,  2.6108e-02,  1.6939e-01, -8.3794e-02, -1.3722e-01,\n",
       "         -9.4069e-02, -1.1539e-01,  1.0068e-01, -3.5375e-04, -1.0401e-01,\n",
       "          4.2981e-02,  2.5039e-02,  1.3992e-01,  1.8365e-01, -6.4556e-02,\n",
       "         -6.4489e-02, -1.9250e-02, -1.3337e-01, -1.6626e-01,  1.6392e-01,\n",
       "          5.6217e-02, -1.6484e-01,  2.4394e-01, -2.8726e-01, -1.6831e-02,\n",
       "          5.9497e-02, -1.7025e-02, -1.9933e-01, -1.5166e-01, -1.4607e-01,\n",
       "          4.3540e-03, -3.6821e-03,  3.5712e-02,  1.5992e-03, -8.6239e-02,\n",
       "          1.0491e-01,  8.5171e-03, -3.8223e-03,  1.0306e-01,  3.5023e-02,\n",
       "          1.5538e-01,  1.2453e-01, -5.5412e-02, -2.6376e-01, -1.4935e-01,\n",
       "          2.5465e-01, -6.4190e-02,  2.6979e-01,  5.9723e-03, -6.9211e-02,\n",
       "          1.4707e-01,  5.6986e-02, -3.8426e-03,  3.9367e-02, -6.2906e-04,\n",
       "          1.5557e-01,  2.2014e-01,  7.0488e-02,  1.1048e-01, -1.7979e-01,\n",
       "         -2.5336e-02,  9.8730e-02,  5.9214e-02, -1.4340e-01, -1.7124e-02,\n",
       "          2.3328e-02, -1.3533e-02,  1.1968e-01,  1.0724e-01,  2.0854e-01,\n",
       "          1.0948e-01, -1.2648e-01, -5.0033e-02, -1.6319e-01,  6.1286e-02,\n",
       "          8.1510e-02,  2.1171e-02,  1.3756e-01, -1.6252e-01, -1.5085e-01,\n",
       "          1.6808e-01,  1.9591e-02,  1.6042e-01, -1.1083e-01,  7.1066e-02,\n",
       "         -9.8492e-02,  3.9003e-02,  7.8402e-03,  4.5300e-02, -1.6107e-01,\n",
       "         -8.5729e-02,  1.4509e-01, -7.1591e-02,  3.0458e-01,  1.7317e-01,\n",
       "         -1.0665e-01, -2.0447e-01,  4.5294e-02,  1.0823e-01, -7.7193e-02,\n",
       "         -1.1407e-01,  3.7442e-02,  3.0389e-02, -7.8631e-03,  1.7327e-01,\n",
       "          2.5203e-01,  6.0614e-02,  1.0834e-02, -1.0547e-02, -2.6288e-02,\n",
       "          3.1078e-02,  6.3070e-02, -2.6227e-02, -6.5166e-02, -9.0301e-02,\n",
       "          2.3167e-01,  6.2024e-02, -6.4554e-02, -1.7845e-01,  2.0197e-02,\n",
       "          2.2734e-01,  5.8888e-02,  2.3256e-02, -2.1757e-02, -2.0426e-01,\n",
       "         -1.4661e-01,  4.4041e-02, -1.4444e-01,  8.0656e-02, -4.2434e-02,\n",
       "         -1.1187e-01,  1.1163e-02,  1.0649e-01,  1.8941e-01, -7.9615e-02,\n",
       "          7.0485e-02,  2.3731e-02, -1.9480e-01,  3.3543e-02, -1.4016e-01,\n",
       "         -2.3767e-02, -1.2185e-01,  6.2466e-02, -5.5150e-02,  1.5875e-01,\n",
       "          1.5483e-01,  1.8114e-01, -4.7049e-02,  1.9070e-01,  1.0358e-02,\n",
       "         -6.9492e-02,  6.7634e-02,  1.2183e-01, -1.3992e-01,  2.6710e-01,\n",
       "          2.2933e-01,  8.2468e-02,  9.9341e-02,  2.8328e-03,  1.0525e-01,\n",
       "          3.2877e-02, -1.3285e-01, -1.8365e-02, -9.3802e-02, -3.7161e-02,\n",
       "          5.4020e-02,  2.3273e-01,  2.2173e-01,  1.2723e-01, -1.9693e-02,\n",
       "          4.5658e-02, -8.6439e-03,  6.6518e-02,  3.5114e-02,  1.3426e-01,\n",
       "          3.3342e-02, -1.6306e-02,  1.2241e-01,  8.5877e-02, -1.3566e-01,\n",
       "         -1.8896e-02, -2.0957e-01,  9.6601e-04, -7.5449e-02,  5.6910e-02,\n",
       "         -1.1418e-01,  1.0256e-01, -2.6533e-02, -3.0541e-02,  8.6621e-02,\n",
       "          2.6084e-01, -3.0217e-02,  1.1365e-01,  6.6585e-02, -1.4007e-01,\n",
       "         -1.1184e-01,  7.0238e-02, -1.4825e-01,  3.2507e-02,  1.5677e-01,\n",
       "         -3.4880e-02,  1.7447e-01,  8.8088e-02,  1.1634e-01,  3.3506e-02,\n",
       "          9.3159e-02, -5.2290e-02,  1.5239e-01, -7.3649e-02,  1.2075e-01,\n",
       "         -1.6709e-01, -1.5067e-01, -3.9186e-03,  1.7658e-01,  5.2456e-02,\n",
       "         -2.7802e-02,  1.1071e-01, -7.1547e-02,  9.2137e-03, -1.2752e-01,\n",
       "          2.5372e-02,  2.6186e-02,  2.2706e-01,  6.3509e-02,  5.0243e-03,\n",
       "          2.4352e-02,  1.1456e-01,  1.0483e-01,  2.0721e-01,  2.6508e-02,\n",
       "          1.2810e-01,  7.9399e-02,  8.7845e-02, -1.6625e-01, -4.7911e-02,\n",
       "         -1.7360e-01,  1.9054e-01,  1.1673e-01,  1.1860e-01, -1.2726e-01,\n",
       "          5.1988e-02,  9.6284e-02,  3.0038e-01, -3.3050e-02,  1.0917e-01,\n",
       "         -9.9401e-02,  1.2823e-02, -5.4230e-02, -1.6646e-02, -2.1489e-02,\n",
       "          1.1282e-01, -8.5820e-02,  2.3887e-01, -1.1865e-01,  3.1878e-02,\n",
       "         -1.2705e-01,  5.8222e-03, -9.8497e-02, -1.1063e-01, -2.4527e-02,\n",
       "          4.8701e-02,  1.1463e-02,  2.7699e-02,  2.9373e-03, -5.7412e-03,\n",
       "         -4.8614e-02,  2.0603e-01,  1.4799e-01,  2.2809e-01,  1.1992e-01,\n",
       "         -3.5873e-02, -2.5686e-02,  1.4698e-02, -7.4961e-02, -2.5343e-01,\n",
       "          1.5158e-01,  5.7292e-02, -3.9128e-02, -2.3581e-01,  2.0416e-01,\n",
       "         -8.5393e-02, -9.8071e-02,  8.6901e-02, -7.1272e-02, -9.5051e-02,\n",
       "         -4.1766e-01, -1.9356e-01, -1.7608e-01, -2.1286e-01,  8.4757e-02,\n",
       "         -6.0515e-02, -3.2933e-02,  1.9774e-01,  4.1693e-02,  2.1142e-01,\n",
       "          1.2948e-01, -2.7293e-02, -1.0893e-01, -2.8478e-01, -3.9529e-01,\n",
       "          1.7697e-01,  2.5719e-01,  6.4958e-02, -7.6842e-03,  2.2582e-01,\n",
       "          1.2587e-01,  1.8381e-01,  3.9578e-02,  6.7177e-03,  2.0344e-01,\n",
       "          2.2672e-02,  1.0421e-02, -1.2243e-01, -8.6446e-02,  3.1129e-02,\n",
       "          3.3835e-01, -5.7990e-02, -2.1847e-01,  2.4360e-01, -3.1996e-02,\n",
       "          1.1903e-01, -5.3452e-04, -3.5047e-02, -2.3358e-01,  3.0803e-02,\n",
       "          1.0652e-01,  8.1439e-02,  7.7814e-03,  1.5870e-02,  6.7361e-02,\n",
       "          1.3128e-01, -8.2529e-02,  1.1264e-01, -5.9510e-02,  1.1026e-01,\n",
       "         -7.8749e-02,  2.4225e-02,  5.5414e-02,  6.1065e-02,  7.4283e-02,\n",
       "         -1.6886e-01, -6.4203e-02, -1.7091e-01,  7.3574e-02, -5.8452e-02,\n",
       "          1.2726e-02,  2.9657e-02,  1.8133e-01, -9.3628e-02, -1.4439e-01,\n",
       "          1.0347e-01,  6.0955e-02,  1.8963e-01, -6.5731e-02,  1.1165e-01,\n",
       "         -1.7656e-02, -2.3038e-01, -4.1063e-02, -1.5267e-01, -1.7568e-01,\n",
       "         -1.3767e-02,  8.2355e-02,  1.2395e-01,  1.8336e-01,  6.1197e-02,\n",
       "         -2.3004e-01, -1.4302e-01,  1.3671e-01,  3.8078e-02, -1.3168e-01,\n",
       "         -1.3264e-01, -4.3725e-02, -2.0905e-01, -1.0458e-01,  5.6865e-02,\n",
       "         -1.0139e-01, -4.7444e-02, -1.7354e-01,  6.6656e-02,  7.8405e-02,\n",
       "          9.3104e-02,  4.0685e-02,  6.1887e-02, -1.4492e-01, -1.8657e-01,\n",
       "          9.4498e-02,  8.6110e-02, -1.8648e-01,  1.0729e-02, -9.8088e-02,\n",
       "         -1.9376e-01,  1.7197e-02, -9.1355e-02, -3.4867e-02, -1.7421e-01,\n",
       "          1.5782e-02,  1.3061e-01, -4.6022e-02,  8.6094e-02, -6.3642e-02,\n",
       "          5.9513e-03, -7.1958e-02, -1.5706e-01, -7.5708e-02,  2.3042e-01,\n",
       "          1.4744e-02,  1.3009e-01,  3.4119e-02, -5.7403e-02, -9.9109e-02,\n",
       "          2.0989e-01, -8.7572e-02,  5.3104e-02, -7.5060e-02,  1.0459e-01,\n",
       "          1.7079e-01,  1.8966e-01,  6.0866e-02]], grad_fn=<TanhBackward0>), hidden_states=None, attentions=None)"
      ]
     },
     "execution_count": 56,
     "metadata": {},
     "output_type": "execute_result"
    }
   ],
   "source": [
    "model.to(torch.device(\"cpu\"))\n",
    "tokenz = tokenizer([comments_dataset[\"text\"][0]], return_tensors=\"pt\")\n",
    "output = model(**tokenz)\n",
    "output"
   ]
  },
  {
   "cell_type": "code",
   "execution_count": 57,
   "id": "e97e0f7e-e2fa-41fa-bc51-9ca2cbe640d5",
   "metadata": {},
   "outputs": [
    {
     "data": {
      "text/plain": [
       "torch.Size([1, 469, 768])"
      ]
     },
     "execution_count": 57,
     "metadata": {},
     "output_type": "execute_result"
    }
   ],
   "source": [
    "output.last_hidden_state.size()"
   ]
  },
  {
   "cell_type": "code",
   "execution_count": 60,
   "id": "08cdec74-bbe1-45fc-9c02-418a25338adb",
   "metadata": {},
   "outputs": [
    {
     "data": {
      "text/plain": [
       "torch.Size([1, 469])"
      ]
     },
     "execution_count": 60,
     "metadata": {},
     "output_type": "execute_result"
    }
   ],
   "source": [
    "tokenz[\"input_ids\"].size()"
   ]
  },
  {
   "cell_type": "code",
   "execution_count": 69,
   "id": "064c53b7-474b-4c4a-9320-b29783e6e7bf",
   "metadata": {},
   "outputs": [
    {
     "data": {
      "text/plain": [
       "torch.Size([1, 768])"
      ]
     },
     "execution_count": 69,
     "metadata": {},
     "output_type": "execute_result"
    }
   ],
   "source": [
    "output.last_hidden_state[:, 0].size()\n"
   ]
  },
  {
   "cell_type": "code",
   "execution_count": 67,
   "id": "5e2bee4a-b5e8-4d2c-9419-876a0abd945e",
   "metadata": {},
   "outputs": [
    {
     "data": {
      "text/plain": [
       "'Protect master branch \\n After accidental merge commit (91c55355b634d0dc73350a7ddee1a6776dbbdd69) into `datasets` master branch, all commits present in the feature branch were permanently added to `datasets` master branch history, as e.g.:\\r\\n- 00cc036fea7c7745cfe722360036ed306796a3f2\\r\\n- 13ae8c98602bbad8197de3b9b425f4c78f582af1\\r\\n- ...\\r\\n\\r\\nI propose to protect our master branch, so that we avoid we can accidentally make this kind of mistakes in the future:\\r\\n- [x] For Pull Requests using GitHub, allow only squash merging, so that only a single commit per Pull Request is merged into the master branch\\r\\n  - Currently, simple merge commits are already disabled\\r\\n  - I propose to disable rebase merging as well\\r\\n- ~~Protect the master branch from direct pushes (to avoid accidentally pushing of merge commits)~~\\r\\n  - ~~This protection would reject direct pushes to master branch~~\\r\\n  - ~~If so, for each release (when we need to commit directly to the master branch), we should previously disable the protection and re-enable it again after the release~~\\r\\n- [x] Protect the master branch only from direct pushing of **merge commits**\\r\\n  - GitHub offers the possibility to protect the master branch only from merge commits (which are the ones that introduce all the commits from the feature branch into the master branch).\\r\\n  - No need to disable/re-enable this protection on each release \\r\\n\\r\\nThis purpose of this Issue is to open a discussion about this problem and to agree in a solution. \\n @lhoestq now the 2 are implemented.\\r\\n\\r\\nPlease note that for the the second protection, finally I have chosen to protect the master branch only from **merge commits** (see update comment above), so no need to disable/re-enable the protection on each release (direct commits, different from merge commits, can be pushed to the remote master branch; and eventually reverted without messing up the repo history).'"
      ]
     },
     "execution_count": 67,
     "metadata": {},
     "output_type": "execute_result"
    }
   ],
   "source": [
    "comments_dataset[\"text\"][0]"
   ]
  },
  {
   "cell_type": "code",
   "execution_count": null,
   "id": "6ae5f7c7-f7c5-4bae-81f8-b5fc84aa1c3d",
   "metadata": {},
   "outputs": [],
   "source": [
    "toke"
   ]
  }
 ],
 "metadata": {
  "kernelspec": {
   "display_name": "Python 3 (ipykernel)",
   "language": "python",
   "name": "python3"
  },
  "language_info": {
   "codemirror_mode": {
    "name": "ipython",
    "version": 3
   },
   "file_extension": ".py",
   "mimetype": "text/x-python",
   "name": "python",
   "nbconvert_exporter": "python",
   "pygments_lexer": "ipython3",
   "version": "3.10.13"
  }
 },
 "nbformat": 4,
 "nbformat_minor": 5
}
