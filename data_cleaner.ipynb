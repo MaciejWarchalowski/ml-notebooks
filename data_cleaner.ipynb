{
 "cells": [
  {
   "cell_type": "code",
   "execution_count": 1,
   "id": "88e9d6c0-3517-45d3-ab58-c4464788fc18",
   "metadata": {},
   "outputs": [
    {
     "name": "stdout",
     "output_type": "stream",
     "text": [
      "Requirement already satisfied: transformers in /opt/conda/lib/python3.10/site-packages (4.38.2)\n",
      "Requirement already satisfied: datasets in /opt/conda/lib/python3.10/site-packages (2.18.0)\n",
      "Requirement already satisfied: torch in /opt/conda/lib/python3.10/site-packages (2.2.0)\n",
      "Requirement already satisfied: filelock in /opt/conda/lib/python3.10/site-packages (from transformers) (3.13.1)\n",
      "Requirement already satisfied: huggingface-hub<1.0,>=0.19.3 in /opt/conda/lib/python3.10/site-packages (from transformers) (0.21.3)\n",
      "Requirement already satisfied: numpy>=1.17 in /opt/conda/lib/python3.10/site-packages (from transformers) (1.26.3)\n",
      "Requirement already satisfied: packaging>=20.0 in /opt/conda/lib/python3.10/site-packages (from transformers) (23.1)\n",
      "Requirement already satisfied: pyyaml>=5.1 in /opt/conda/lib/python3.10/site-packages (from transformers) (6.0.1)\n",
      "Requirement already satisfied: regex!=2019.12.17 in /opt/conda/lib/python3.10/site-packages (from transformers) (2023.12.25)\n",
      "Requirement already satisfied: requests in /opt/conda/lib/python3.10/site-packages (from transformers) (2.31.0)\n",
      "Requirement already satisfied: tokenizers<0.19,>=0.14 in /opt/conda/lib/python3.10/site-packages (from transformers) (0.15.2)\n",
      "Requirement already satisfied: safetensors>=0.4.1 in /opt/conda/lib/python3.10/site-packages (from transformers) (0.4.2)\n",
      "Requirement already satisfied: tqdm>=4.27 in /opt/conda/lib/python3.10/site-packages (from transformers) (4.65.0)\n",
      "Requirement already satisfied: pyarrow>=12.0.0 in /opt/conda/lib/python3.10/site-packages (from datasets) (15.0.0)\n",
      "Requirement already satisfied: pyarrow-hotfix in /opt/conda/lib/python3.10/site-packages (from datasets) (0.6)\n",
      "Requirement already satisfied: dill<0.3.9,>=0.3.0 in /opt/conda/lib/python3.10/site-packages (from datasets) (0.3.8)\n",
      "Requirement already satisfied: pandas in /opt/conda/lib/python3.10/site-packages (from datasets) (2.2.1)\n",
      "Requirement already satisfied: xxhash in /opt/conda/lib/python3.10/site-packages (from datasets) (3.4.1)\n",
      "Requirement already satisfied: multiprocess in /opt/conda/lib/python3.10/site-packages (from datasets) (0.70.16)\n",
      "Requirement already satisfied: fsspec<=2024.2.0,>=2023.1.0 in /opt/conda/lib/python3.10/site-packages (from fsspec[http]<=2024.2.0,>=2023.1.0->datasets) (2023.12.2)\n",
      "Requirement already satisfied: aiohttp in /opt/conda/lib/python3.10/site-packages (from datasets) (3.9.3)\n",
      "Requirement already satisfied: typing-extensions>=4.8.0 in /opt/conda/lib/python3.10/site-packages (from torch) (4.9.0)\n",
      "Requirement already satisfied: sympy in /opt/conda/lib/python3.10/site-packages (from torch) (1.12)\n",
      "Requirement already satisfied: networkx in /opt/conda/lib/python3.10/site-packages (from torch) (3.1)\n",
      "Requirement already satisfied: jinja2 in /opt/conda/lib/python3.10/site-packages (from torch) (3.1.2)\n",
      "Requirement already satisfied: aiosignal>=1.1.2 in /opt/conda/lib/python3.10/site-packages (from aiohttp->datasets) (1.3.1)\n",
      "Requirement already satisfied: attrs>=17.3.0 in /opt/conda/lib/python3.10/site-packages (from aiohttp->datasets) (23.1.0)\n",
      "Requirement already satisfied: frozenlist>=1.1.1 in /opt/conda/lib/python3.10/site-packages (from aiohttp->datasets) (1.4.1)\n",
      "Requirement already satisfied: multidict<7.0,>=4.5 in /opt/conda/lib/python3.10/site-packages (from aiohttp->datasets) (6.0.5)\n",
      "Requirement already satisfied: yarl<2.0,>=1.0 in /opt/conda/lib/python3.10/site-packages (from aiohttp->datasets) (1.9.4)\n",
      "Requirement already satisfied: async-timeout<5.0,>=4.0 in /opt/conda/lib/python3.10/site-packages (from aiohttp->datasets) (4.0.3)\n",
      "Requirement already satisfied: charset-normalizer<4,>=2 in /opt/conda/lib/python3.10/site-packages (from requests->transformers) (2.0.4)\n",
      "Requirement already satisfied: idna<4,>=2.5 in /opt/conda/lib/python3.10/site-packages (from requests->transformers) (3.4)\n",
      "Requirement already satisfied: urllib3<3,>=1.21.1 in /opt/conda/lib/python3.10/site-packages (from requests->transformers) (1.26.18)\n",
      "Requirement already satisfied: certifi>=2017.4.17 in /opt/conda/lib/python3.10/site-packages (from requests->transformers) (2023.11.17)\n",
      "Requirement already satisfied: MarkupSafe>=2.0 in /opt/conda/lib/python3.10/site-packages (from jinja2->torch) (2.1.3)\n",
      "Requirement already satisfied: python-dateutil>=2.8.2 in /opt/conda/lib/python3.10/site-packages (from pandas->datasets) (2.8.2)\n",
      "Requirement already satisfied: pytz>=2020.1 in /opt/conda/lib/python3.10/site-packages (from pandas->datasets) (2023.3.post1)\n",
      "Requirement already satisfied: tzdata>=2022.7 in /opt/conda/lib/python3.10/site-packages (from pandas->datasets) (2024.1)\n",
      "Requirement already satisfied: mpmath>=0.19 in /opt/conda/lib/python3.10/site-packages (from sympy->torch) (1.3.0)\n",
      "Requirement already satisfied: six>=1.5 in /opt/conda/lib/python3.10/site-packages (from python-dateutil>=2.8.2->pandas->datasets) (1.16.0)\n",
      "\u001b[33mWARNING: Running pip as the 'root' user can result in broken permissions and conflicting behaviour with the system package manager. It is recommended to use a virtual environment instead: https://pip.pypa.io/warnings/venv\u001b[0m\u001b[33m\n",
      "\u001b[0m"
     ]
    }
   ],
   "source": [
    "!pip install transformers datasets torch\n",
    "from transformers import AutoTokenizer, AutoModelForSequenceClassification\n",
    "from datasets import load_dataset\n"
   ]
  },
  {
   "cell_type": "code",
   "execution_count": 2,
   "id": "beb44a2c-d8f0-45cf-803b-89a1741e4b14",
   "metadata": {},
   "outputs": [],
   "source": [
    "from transformers import pipeline\n",
    "model_name = \"papluca/xlm-roberta-base-language-detection\""
   ]
  },
  {
   "cell_type": "code",
   "execution_count": 3,
   "id": "74158a43-33fb-4291-b903-2125d6eb49a5",
   "metadata": {},
   "outputs": [
    {
     "data": {
      "application/vnd.jupyter.widget-view+json": {
       "model_id": "b3f8131bb43c4943a38a4378264dea81",
       "version_major": 2,
       "version_minor": 0
      },
      "text/plain": [
       "config.json:   0%|          | 0.00/1.42k [00:00<?, ?B/s]"
      ]
     },
     "metadata": {},
     "output_type": "display_data"
    },
    {
     "data": {
      "application/vnd.jupyter.widget-view+json": {
       "model_id": "900098c4da4c44f990727a044b1e6fba",
       "version_major": 2,
       "version_minor": 0
      },
      "text/plain": [
       "model.safetensors:   0%|          | 0.00/1.11G [00:00<?, ?B/s]"
      ]
     },
     "metadata": {},
     "output_type": "display_data"
    },
    {
     "data": {
      "application/vnd.jupyter.widget-view+json": {
       "model_id": "6af96215bb0846108cc05b2f2b3d9977",
       "version_major": 2,
       "version_minor": 0
      },
      "text/plain": [
       "tokenizer_config.json:   0%|          | 0.00/502 [00:00<?, ?B/s]"
      ]
     },
     "metadata": {},
     "output_type": "display_data"
    },
    {
     "data": {
      "application/vnd.jupyter.widget-view+json": {
       "model_id": "2dc4034e874a44e397ada81d172851df",
       "version_major": 2,
       "version_minor": 0
      },
      "text/plain": [
       "sentencepiece.bpe.model:   0%|          | 0.00/5.07M [00:00<?, ?B/s]"
      ]
     },
     "metadata": {},
     "output_type": "display_data"
    },
    {
     "data": {
      "application/vnd.jupyter.widget-view+json": {
       "model_id": "651b208232f6430a8c2a7d45519b541c",
       "version_major": 2,
       "version_minor": 0
      },
      "text/plain": [
       "tokenizer.json:   0%|          | 0.00/9.08M [00:00<?, ?B/s]"
      ]
     },
     "metadata": {},
     "output_type": "display_data"
    },
    {
     "data": {
      "application/vnd.jupyter.widget-view+json": {
       "model_id": "fe8dcf43b2e2489c96fa619bbe38be20",
       "version_major": 2,
       "version_minor": 0
      },
      "text/plain": [
       "special_tokens_map.json:   0%|          | 0.00/239 [00:00<?, ?B/s]"
      ]
     },
     "metadata": {},
     "output_type": "display_data"
    }
   ],
   "source": [
    "pipe = pipeline(\"text-classification\", model=\"papluca/xlm-roberta-base-language-detection\", max_length=512, truncation=True,device=0, batch_size=500)\n"
   ]
  },
  {
   "cell_type": "code",
   "execution_count": 4,
   "id": "61c2075b-38c0-4365-b6fd-7de046c606e8",
   "metadata": {},
   "outputs": [
    {
     "data": {
      "application/vnd.jupyter.widget-view+json": {
       "model_id": "fbf808c1845645afada5a0a888444f1b",
       "version_major": 2,
       "version_minor": 0
      },
      "text/plain": [
       "Downloading readme:   0%|          | 0.00/361 [00:00<?, ?B/s]"
      ]
     },
     "metadata": {},
     "output_type": "display_data"
    },
    {
     "data": {
      "application/vnd.jupyter.widget-view+json": {
       "model_id": "cf3866b972224ef58a45102bfa2c290a",
       "version_major": 2,
       "version_minor": 0
      },
      "text/plain": [
       "Downloading data:   0%|          | 0.00/148M [00:00<?, ?B/s]"
      ]
     },
     "metadata": {},
     "output_type": "display_data"
    },
    {
     "data": {
      "application/vnd.jupyter.widget-view+json": {
       "model_id": "33003c52f898490386d425e882e2b24d",
       "version_major": 2,
       "version_minor": 0
      },
      "text/plain": [
       "Generating train split:   0%|          | 0/143713 [00:00<?, ? examples/s]"
      ]
     },
     "metadata": {},
     "output_type": "display_data"
    }
   ],
   "source": [
    "data = load_dataset(\"mwarchalowski/grants\", split='train')"
   ]
  },
  {
   "cell_type": "code",
   "execution_count": 5,
   "id": "24a2b278-e836-4afe-b998-90c8081e3f78",
   "metadata": {},
   "outputs": [],
   "source": [
    "res = pipe(data['abstr'])"
   ]
  },
  {
   "cell_type": "code",
   "execution_count": 6,
   "id": "7f149977-bda4-4385-8935-28713522aec4",
   "metadata": {},
   "outputs": [
    {
     "data": {
      "application/vnd.jupyter.widget-view+json": {
       "model_id": "b7553a7fbc134e7c844b7b2e5459b566",
       "version_major": 2,
       "version_minor": 0
      },
      "text/plain": [
       "Map:   0%|          | 0/143713 [00:00<?, ? examples/s]"
      ]
     },
     "metadata": {},
     "output_type": "display_data"
    },
    {
     "data": {
      "application/vnd.jupyter.widget-view+json": {
       "model_id": "57f6a3499c3e4fa0b82618e7fe4d14d2",
       "version_major": 2,
       "version_minor": 0
      },
      "text/plain": [
       "Filter:   0%|          | 0/143713 [00:00<?, ? examples/s]"
      ]
     },
     "metadata": {},
     "output_type": "display_data"
    }
   ],
   "source": [
    "clean_data = data.map(lambda exmple, idx: res[idx], with_indices=True).filter(lambda example: example['label'] == 'en').remove_columns([\"label\",\"score\"])"
   ]
  },
  {
   "cell_type": "code",
   "execution_count": 7,
   "id": "25a9943e-d44b-4bba-9545-bc9e2e5b1272",
   "metadata": {},
   "outputs": [
    {
     "data": {
      "text/plain": [
       "Dataset({\n",
       "    features: ['id', 'title', 'abstr'],\n",
       "    num_rows: 140286\n",
       "})"
      ]
     },
     "execution_count": 7,
     "metadata": {},
     "output_type": "execute_result"
    }
   ],
   "source": [
    "clean_data"
   ]
  },
  {
   "cell_type": "code",
   "execution_count": 8,
   "id": "37dc9514-3288-4a5c-b664-ebb5b638dccd",
   "metadata": {},
   "outputs": [
    {
     "data": {
      "application/vnd.jupyter.widget-view+json": {
       "model_id": "e6ed029ef78641d9b0e9c4659fa4101a",
       "version_major": 2,
       "version_minor": 0
      },
      "text/plain": [
       "Saving the dataset (0/1 shards):   0%|          | 0/140286 [00:00<?, ? examples/s]"
      ]
     },
     "metadata": {},
     "output_type": "display_data"
    }
   ],
   "source": [
    "clean_data.save_to_disk(\"clean-data\")"
   ]
  },
  {
   "cell_type": "code",
   "execution_count": 9,
   "id": "763a7fbe-ff4c-40fc-8e60-b3bace20c4a5",
   "metadata": {},
   "outputs": [
    {
     "data": {
      "application/vnd.jupyter.widget-view+json": {
       "model_id": "dd1d3c81b6f14d538bea71cce26118f9",
       "version_major": 2,
       "version_minor": 0
      },
      "text/plain": [
       "Uploading the dataset shards:   0%|          | 0/1 [00:00<?, ?it/s]"
      ]
     },
     "metadata": {},
     "output_type": "display_data"
    },
    {
     "data": {
      "application/vnd.jupyter.widget-view+json": {
       "model_id": "b3abab9834c6495fbb3608ea587e51ee",
       "version_major": 2,
       "version_minor": 0
      },
      "text/plain": [
       "Creating parquet from Arrow format:   0%|          | 0/141 [00:00<?, ?ba/s]"
      ]
     },
     "metadata": {},
     "output_type": "display_data"
    },
    {
     "data": {
      "application/vnd.jupyter.widget-view+json": {
       "model_id": "5ce690db409049eea97c2a5c722fd8a6",
       "version_major": 2,
       "version_minor": 0
      },
      "text/plain": [
       "README.md:   0%|          | 0.00/361 [00:00<?, ?B/s]"
      ]
     },
     "metadata": {},
     "output_type": "display_data"
    },
    {
     "data": {
      "text/plain": [
       "CommitInfo(commit_url='https://huggingface.co/datasets/mwarchalowski/grants/commit/f34a3eab6d163ca0473845fffd89bbb8acf5e8a1', commit_message='Upload dataset', commit_description='', oid='f34a3eab6d163ca0473845fffd89bbb8acf5e8a1', pr_url=None, pr_revision=None, pr_num=None)"
      ]
     },
     "execution_count": 9,
     "metadata": {},
     "output_type": "execute_result"
    }
   ],
   "source": [
    "clean_data.push_to_hub(\"mwarchalowski/grants\")"
   ]
  },
  {
   "cell_type": "code",
   "execution_count": 16,
   "id": "6cb741cb-b754-4866-9f84-b4763d78e639",
   "metadata": {},
   "outputs": [],
   "source": [
    "def text_size(str):\n",
    "    return len(str.split(\" \"))"
   ]
  },
  {
   "cell_type": "code",
   "execution_count": 36,
   "id": "f2267cda-00c6-4045-86db-7c158ee78dc2",
   "metadata": {},
   "outputs": [],
   "source": [
    "example_lenghts = clean_data.map(lambda example: {'text_len':text_size(\" \".join([example[\"title\"], example[\"abstr\"]]))})"
   ]
  },
  {
   "cell_type": "code",
   "execution_count": 44,
   "id": "83bc1635-03cd-4028-841b-29705038ad11",
   "metadata": {},
   "outputs": [
    {
     "data": {
      "text/plain": [
       "{'id': ['AKA:129695'],\n",
       " 'title': ['Inorganic Materials Chemistry Graduate Program'],\n",
       " 'abstr': ['Inorganic materials graduate program'],\n",
       " 'text_len': [9]}"
      ]
     },
     "execution_count": 44,
     "metadata": {},
     "output_type": "execute_result"
    }
   ],
   "source": [
    "example_lenghts.filter(lambda example: example['text_len'] < 10)[:1]"
   ]
  },
  {
   "cell_type": "code",
   "execution_count": 63,
   "id": "2b8e20a7-5423-441f-b6e5-95a8e0513787",
   "metadata": {},
   "outputs": [],
   "source": [
    "pd_examples = example_lenghts.with_format('pandas')[:]"
   ]
  },
  {
   "cell_type": "code",
   "execution_count": 88,
   "id": "e0a83704-3b81-4278-8d1d-c8e76b1facc5",
   "metadata": {},
   "outputs": [
    {
     "data": {
      "text/plain": [
       "abstr\n",
       "Public/State Controlled Institution of Higher Education                                                                                                                                                                                                                                                                                                                                                                                                                                                                                                                                                                                                                                                                                                                                                                                                                                                                                                                                                                                                                                                                                                                                                                                                                                                                                                                                                                                                                                                                                                                                                                                                                                                                                                                                                                                                                                                                                                                                                                                                                                                                                                                                                                                                                                                                                                                                                                                                                                                                                                                                                                                                                                                                                                                                                                                                                                                                                                                                                                                                                                                                                                                                                                                                                                                                                                                                                                                                                                                                                                                                                                                                                                                                                                                                                                                                                                                                                                                                                                                                                                                                                                 1566\n",
       "Small Business                                                                                                                                                                                                                                                                                                                                                                                                                                                                                                                                                                                                                                                                                                                                                                                                                                                                                                                                                                                                                                                                                                                                                                                                                                                                                                                                                                                                                                                                                                                                                                                                                                                                                                                                                                                                                                                                                                                                                                                                                                                                                                                                                                                                                                                                                                                                                                                                                                                                                                                                                                                                                                                                                                                                                                                                                                                                                                                                                                                                                                                                                                                                                                                                                                                                                                                                                                                                                                                                                                                                                                                                                                                                                                                                                                                                                                                                                                                                                                                                                                                                                                                                           864\n",
       "Private Institution of Higher Education                                                                                                                                                                                                                                                                                                                                                                                                                                                                                                                                                                                                                                                                                                                                                                                                                                                                                                                                                                                                                                                                                                                                                                                                                                                                                                                                                                                                                                                                                                                                                                                                                                                                                                                                                                                                                                                                                                                                                                                                                                                                                                                                                                                                                                                                                                                                                                                                                                                                                                                                                                                                                                                                                                                                                                                                                                                                                                                                                                                                                                                                                                                                                                                                                                                                                                                                                                                                                                                                                                                                                                                                                                                                                                                                                                                                                                                                                                                                                                                                                                                                                                                  823\n",
       "Abstract not available                                                                                                                                                                                                                                                                                                                                                                                                                                                                                                                                                                                                                                                                                                                                                                                                                                                                                                                                                                                                                                                                                                                                                                                                                                                                                                                                                                                                                                                                                                                                                                                                                                                                                                                                                                                                                                                                                                                                                                                                                                                                                                                                                                                                                                                                                                                                                                                                                                                                                                                                                                                                                                                                                                                                                                                                                                                                                                                                                                                                                                                                                                                                                                                                                                                                                                                                                                                                                                                                                                                                                                                                                                                                                                                                                                                                                                                                                                                                                                                                                                                                                                                                   536\n",
       "Doctoral Training Partnerships: a range of postgraduate training is funded by the Research Councils. For information on current funding routes, see the common terminology at https://www.ukri.org/apply-for-funding/how-we-fund-studentships/. Training grants may be to one organisation or to a consortia of research organisations. This portal will show the lead organisation only.                                                                                                                                                                                                                                                                                                                                                                                                                                                                                                                                                                                                                                                                                                                                                                                                                                                                                                                                                                                                                                                                                                                                                                                                                                                                                                                                                                                                                                                                                                                                                                                                                                                                                                                                                                                                                                                                                                                                                                                                                                                                                                                                                                                                                                                                                                                                                                                                                                                                                                                                                                                                                                                                                                                                                                                                                                                                                                                                                                                                                                                                                                                                                                                                                                                                                                                                                                                                                                                                                                                                                                                                                                                                                                                                                                469\n",
       "                                                                                                                                                                                                                                                                                                                                                                                                                                                                                                                                                                                                                                                                                                                                                                                                                                                                                                                                                                                                                                                                                                                                                                                                                                                                                                                                                                                                                                                                                                                                                                                                                                                                                                                                                                                                                                                                                                                                                                                                                                                                                                                                                                                                                                                                                                                                                                                                                                                                                                                                                                                                                                                                                                                                                                                                                                                                                                                                                                                                                                                                                                                                                                                                                                                                                                                                                                                                                                                                                                                                                                                                                                                                                                                                                                                                                                                                                                                                                                                                                                                                                                                                                        ... \n",
       "The proposed research aims at advancing the state of the art in the design of data driven reduced models for complex systems such as climate and atmospheric modeling, engineering turbulence and combustion models.                                                                                                                                                                                                                                                                                                                                                                                                                                                                                                                                                                                                                                                                                                                                                                                                                                                                                                                                                                                                                                                                                                                                                                                                                                                                                                                                                                                                                                                                                                                                                                                                                                                                                                                                                                                                                                                                                                                                                                                                                                                                                                                                                                                                                                                                                                                                                                                                                                                                                                                                                                                                                                                                                                                                                                                                                                                                                                                                                                                                                                                                                                                                                                                                                                                                                                                                                                                                                                                                                                                                                                                                                                                                                                                                                                                                                                                                                                                                       1\n",
       "The objective is to maximize both electrochemical and mechanical properties of electrodes, while maintaining acceptable performance in both arenas. The result is a reduction in systems-level mass or volume, depending on the application's priority.                                                                                                                                                                                                                                                                                                                                                                                                                                                                                                                                                                                                                                                                                                                                                                                                                                                                                                                                                                                                                                                                                                                                                                                                                                                                                                                                                                                                                                                                                                                                                                                                                                                                                                                                                                                                                                                                                                                                                                                                                                                                                                                                                                                                                                                                                                                                                                                                                                                                                                                                                                                                                                                                                                                                                                                                                                                                                                                                                                                                                                                                                                                                                                                                                                                                                                                                                                                                                                                                                                                                                                                                                                                                                                                                                                                                                                                                                                    1\n",
       "The equipment being asked for is intended to be used to link behavior to neural activity.  The current capability to do so does not exist because of unnatural environment (restraint), lack of properly measured brain area, complexity of task and focus on specific brain region.  Using fruit flies with their small brain enables us to start to get a fix on monitoring the entire brain.                                                                                                                                                                                                                                                                                                                                                                                                                                                                                                                                                                                                                                                                                                                                                                                                                                                                                                                                                                                                                                                                                                                                                                                                                                                                                                                                                                                                                                                                                                                                                                                                                                                                                                                                                                                                                                                                                                                                                                                                                                                                                                                                                                                                                                                                                                                                                                                                                                                                                                                                                                                                                                                                                                                                                                                                                                                                                                                                                                                                                                                                                                                                                                                                                                                                                                                                                                                                                                                                                                                                                                                                                                                                                                                                                            1\n",
       "Big data is a national security concern: data is a national asset.  This proposed research will study big data with respect to video and images using deep convolutional neural networks (DCNNs).  The current issue with deep convolutional neural networks (DCNNs) is that there is high computational complexity which requires resources, and thus these DCNNs have poor efficiency.  The research proposed will tackle the poor efficiency aspect by studying cross-layer design which will focus on multiple layers of abstraction (algorithm, architecture, circuit and system) including energy-efficient data flows on spatial architectures, as energy for data movement is significantly greater than computation, energy-efficient circuits that exploit data statistics, energy-efficient algorithms that efficiently map to hardware, and energy models to enable cross-layer design of algorithms and hardware, and energy-efficient systems that minimize the cost of flexibility and scalability. The flexibility cost will be compared with the programmability cost of GPUs.  The research, if successful, will improve the warfighters' ability to decipher big data and maintain the Air Force's battle-space awareness.                                                                                                                                                                                                                                                                                                                                                                                                                                                                                                                                                                                                                                                                                                                                                                                                                                                                                                                                                                                                                                                                                                                                                                                                                                                                                                                                                                                                                                                                                                                                                                                                                                                                                                                                                                                                                                                                                                                                                                                                                                                                                                                                                                                                                                                                                                                                                                                                                                                                                                                                                                                                                                                                                                                                                                                                                                                                                                              1\n",
       "Billions of pounds are spent each year on health care treatments with the aim of improving and saving lives. But not all clinical research is published and what is published not be reliable. By bringing together similar studies, assessing their quality, and combined effects, more reliable findings can be used to guide future clinical and policy decisions. The gold standard of this method of reviewing studies is called systematic review. These large reports summarise all relevant studies in a clear and fair way to understand the benefits and drawbacks of new treatments. They are highly cited articles and regarded as objective and transparent research designs that are necessary to inform patient care.\\n\\nThere are increasing reports that systematic reviews are being published that do not live up to their high quality reputation. Systematic reviews are receiving attention for contributing to research waste, varying massively in their quality, being misleading and serving conflicted interests. When authors are asked by publishing journals to declare conflicts of interest, they relate to narrow criteria about funds received from industry within the last few years. Whilst clear guidelines for best practice in systematic reviews are available for authors, they do not provide guidance on review teams themselves. Reviews are sometimes carried out by people who have an interest in what the results are (bias). Or review teams might not take all the necessary efforts to find and present a full picture of the evidence needed for decision makers to understand (passivity). Members of the review team might have their own view on a treatment and this might shape the way the review is done. Review teams may not be sufficiently skilled or have the resources to carry out a high quality review (insufficient resources). Inflexible review methods may result in expensive review projects which do not reflect issues that matter to patients. Also, sometimes reviews are published without funding and authors' motivation for this is not questioned. The effects that human influence has on systematic reviews may be especially important when looking at health care problems that are complex.\\n\\nConsidering the reputation of systematic reviews as fair and objective processes, poor conduct could be more problematic than in clinical research. Health care evidence might not be evaluated fairly and patients may suffer because the health service may not provide the best treatments as a result. \\n\\nMethods: \\nTo fully explore the ways in which the researchers in the team can influence systematic reviews I plan to: \\n1) Search for and review studies documenting problems with systematic reviews that can occur due to team influence. \\n2) Work with experts in research methods to highlight risks and solutions for systematic review teams, helping to ensure that the findings of my research impact on systematic reviews that are carried out in the future. \\n4) Produce a dedicated website and guidance in a clear and accessible format about the risks of human influence in systematic reviews to help people assess systematic reviews for themselves.\\n5) Test guidance with researchers to refine and revise, ensuring that they are useful to people who do or use systematic reviews.\\n\\nWhat impact will this research have? \\nThis research will describe what makes an appropriate team and what types of team influence can cause problems to systematic reviews. The framework and guidance will help people who do or pay for research that involves a systematic review to understand what factors they need to consider when planning, funding or doing a systematic review. To influence the wider research agenda a user-friendly website that explains the goals, methods and results of the research will be created. This research will lead to better systematic reviews, to inform health care decision making for health services for patients and the public and to influence future health research.       1\n",
       "Name: count, Length: 130031, dtype: int64"
      ]
     },
     "execution_count": 88,
     "metadata": {},
     "output_type": "execute_result"
    }
   ],
   "source": [
    "pd_examples[\"abstr\"].value_counts()"
   ]
  },
  {
   "cell_type": "code",
   "execution_count": 95,
   "id": "58e26d2f-4cfb-4bc0-af8a-c2c69067d192",
   "metadata": {},
   "outputs": [],
   "source": [
    "dups = set([i for i, v in pd_examples[\"abstr\"].value_counts().items() if v > 10])"
   ]
  },
  {
   "cell_type": "code",
   "execution_count": 98,
   "id": "6a376123-bc09-4f09-bfcb-6fa87a150e1e",
   "metadata": {},
   "outputs": [
    {
     "data": {
      "text/plain": [
       "{'Abstract Not Available',\n",
       " 'Abstract not available',\n",
       " 'Awaiting Public Project Summary',\n",
       " 'Doctoral Training Partnerships: a range of postgraduate training is funded by the Research Councils. For information on current funding routes, see the common terminology at https://www.ukri.org/apply-for-funding/how-we-fund-studentships/. Training grants may be to one organisation or to a consortia of research organisations. This portal will show the lead organisation only.',\n",
       " 'For-Profit Organization (Other than Small Business)',\n",
       " 'Hispanic-serving Institution',\n",
       " 'Historically Black Colleges and Universities (HBCUs)',\n",
       " 'In the future, an increased percentage of steel will originate from the Electric Arc Furnace and from the scrap route, for both long products as well as a proportion of flat products. Since a deterioration in scrap quality is also predicted, the European steel industry could be faced with quality problems due to the higher content of tramp elements in steel, which may affect end user properties to a greater or lesser extent. In order to analyze and overcome these problems, a major research project is proposed dealing with the control of residuals in scrap and liquid steel, and with the influence of tramp elements on steel product properties. It is composed of four main sections: 1. Scrap preparation for reducing the tramp element content; 2. Purification of scrap melts for removing residuals at the liquid stage; 3. Influence of tramp elements on the properties of flat products; 4. Influence of tramp elements on the properties of long products.',\n",
       " 'No abstract available',\n",
       " 'No abstract required',\n",
       " 'No summary available',\n",
       " 'Nonprofit with 501C3 IRS status (other than Institution of Higher Education)',\n",
       " 'Other',\n",
       " 'Other Federal Agency',\n",
       " 'Postdoctoral Research Fellowship',\n",
       " 'Private Institution of Higher Education',\n",
       " 'Public/State Controlled Institution of Higher Education',\n",
       " 'Small Business',\n",
       " 'The Wounded Warrior Service Dog Program (WWSDP) is a competitive grants program that supports Service Members and Veterans with physical and psychological disabilities across diverse geographic regions and population demographics. Nonprofit organizations in the business of training and providing service dogs are advancing the Service Dog industry through continued learning, innovative training programs, and superior industry standards.',\n",
       " 'The Wounded Warrior Service Dog Program (WWSDP) is a competitive grants program that supports Service Members and Veterans with physical and psychological disabilities across diverse geographic regions and population demographics. Support is provided by nonprofit organizations established for the purpose of training and providing service dogs, and committed to advancing the service dog industry through continued learning, innovative training programs, and superior industry standards.',\n",
       " 'The main objective of the project is the design, construction, validation and demonstration of steel-intensive components and/or sub-assemblies as applied to urban habitats. The innovative aspects consist in giving aesthetic/architectural/functional validity to the above-mentioned components, designed to be as modular and compatible as possible. This project is a multipartner project based on three main lines: housing (low rise buildings), temporary architecture, refurbishment (high rise buildings). Demonstration constructions will be assembled on sites in different countries, and particular care will be taken in the proper reporting and dissemination of overall results.',\n",
       " 'The precondition for a Heisenberg Programme funding is high scientific quality and originality of the research project at international level and suitability for further qualification as a university teacher. Applicants need to meet all the requirements for appointment to a permanent professorship.The aim of this programme is to enable outstanding scientists to prepare for a scientific leadership function, and simultaneously work on further research topics. This research does not necessarily need to be planned and carried out in the form of a project.For this reason, and unlike the procedure in other funding programmes, both the abstracts of applications and final reports are not required and will therefore not be published in GEPRIS.',\n",
       " 'The public description for this project has been requested but has not yet been received.',\n",
       " 'The recipient will apply these funds to undertake enhancements to local infrastructure to support local military value, installation resiliency, and/or family quality of life.',\n",
       " 'This award will support a U.S. graduate student to conduct research in East Asia. The primary goals of the East Asia Summer Institute program are to expose students to East Asia science and engineering in the context of a research laboratory, and to initiate personal relationships that will foster research collaborations with foreign counterparts in the future. This project will provide the student with first hand research experience, an introduction to science and science policy infrastructure, and orientation to culture and language in East Asia.',\n",
       " 'This project will reinforce Portuguese participation in international and European scientific projects and programmes and create strong links of collaboration with R&D institutions. Advanced training for human resources; collaboration with industrial company will exploit results of investigation.',\n",
       " \"This project will reinforce Portuguese participation in international and European scientific projects and programmes and create strong links of collaboration with R&D institutions. Fundamental investigation; improvement and financing of international cooperation; development and acquisition of 'know-how'.\",\n",
       " 'no public description'}"
      ]
     },
     "execution_count": 98,
     "metadata": {},
     "output_type": "execute_result"
    }
   ],
   "source": [
    "dups"
   ]
  },
  {
   "cell_type": "code",
   "execution_count": 99,
   "id": "8449fca0-341c-40e0-a935-0af9006c403c",
   "metadata": {},
   "outputs": [
    {
     "data": {
      "application/vnd.jupyter.widget-view+json": {
       "model_id": "3c3ed87efcd74a378e8c53d8fad335fd",
       "version_major": 2,
       "version_minor": 0
      },
      "text/plain": [
       "Filter:   0%|          | 0/140286 [00:00<?, ? examples/s]"
      ]
     },
     "metadata": {},
     "output_type": "display_data"
    }
   ],
   "source": [
    "no_dups = clean_data.filter(lambda example: example[\"abstr\"] in dups)"
   ]
  },
  {
   "cell_type": "code",
   "execution_count": 100,
   "id": "accef6a6-534f-4903-82d9-0fcab5580f55",
   "metadata": {},
   "outputs": [
    {
     "data": {
      "text/plain": [
       "Dataset({\n",
       "    features: ['id', 'title', 'abstr'],\n",
       "    num_rows: 5587\n",
       "})"
      ]
     },
     "execution_count": 100,
     "metadata": {},
     "output_type": "execute_result"
    }
   ],
   "source": [
    "no_dups"
   ]
  },
  {
   "cell_type": "code",
   "execution_count": 101,
   "id": "8a8f19eb-ee00-4bce-a60e-30ea6d67fd4a",
   "metadata": {},
   "outputs": [
    {
     "data": {
      "text/plain": [
       "{'id': ['CDMRP:03336004',\n",
       "  'CDMRP:04100002',\n",
       "  'CDMRP:05187006',\n",
       "  'CDMRP:05263001',\n",
       "  'CDMRP:06059005',\n",
       "  'CDMRP:06144019',\n",
       "  'CDMRP:07040004',\n",
       "  'CDMRP:07078003',\n",
       "  'CDMRP:07115001',\n",
       "  'CDMRP:07142001'],\n",
       " 'title': ['Developing a Brief Method for the Simultaneous Assessment of Anaerobic and Aerobic Fitness',\n",
       "  'The Dean and Betty Gallo Prostate Cancer Center',\n",
       "  'Development of a Robust Phospho-Protein Interaction Map Useful for Diagnostic of Neuro-degenerative Diseases',\n",
       "  'Integrated Neurocognitive Assessment System for Critical Military Health Needs',\n",
       "  'North American Clinical Trials Network / Building Infrastructure to Accelerate Transfer of Basic Research in Spinal Cord Injury (SCI) to Clinical Practice',\n",
       "  'Environmental neurotoxin exposure-induced nuclear-mitochondrial cascade mechanisms of neurodegeneration',\n",
       "  'Bone Repair and Military Readiness',\n",
       "  'National Oncogenomic and Molecular Imaging Center',\n",
       "  'Standardizing Prosthetic Socket Design',\n",
       "  'Development of Technology for Image-Guided Proton Therapy'],\n",
       " 'abstr': ['Abstract not available',\n",
       "  'Abstract not available',\n",
       "  'Abstract not available',\n",
       "  'Abstract not available',\n",
       "  'Abstract not available',\n",
       "  'Abstract not available',\n",
       "  'Abstract not available',\n",
       "  'Abstract not available',\n",
       "  'Abstract not available',\n",
       "  'Abstract not available']}"
      ]
     },
     "execution_count": 101,
     "metadata": {},
     "output_type": "execute_result"
    }
   ],
   "source": [
    "no_dups[:10]"
   ]
  },
  {
   "cell_type": "code",
   "execution_count": null,
   "id": "2acbed1b-1369-4d84-9b2f-c4ea4db19a00",
   "metadata": {},
   "outputs": [],
   "source": []
  }
 ],
 "metadata": {
  "kernelspec": {
   "display_name": "Python 3 (ipykernel)",
   "language": "python",
   "name": "python3"
  },
  "language_info": {
   "codemirror_mode": {
    "name": "ipython",
    "version": 3
   },
   "file_extension": ".py",
   "mimetype": "text/x-python",
   "name": "python",
   "nbconvert_exporter": "python",
   "pygments_lexer": "ipython3",
   "version": "3.10.13"
  }
 },
 "nbformat": 4,
 "nbformat_minor": 5
}
