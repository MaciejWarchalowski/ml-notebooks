{
 "cells": [
  {
   "cell_type": "code",
   "execution_count": null,
   "id": "d124caa0-56b4-45d4-b379-27b6eef8e03c",
   "metadata": {},
   "outputs": [],
   "source": []
  }
 ],
 "metadata": {
  "kernelspec": {
   "display_name": "",
   "name": ""
  },
  "language_info": {
   "name": ""
  }
 },
 "nbformat": 4,
 "nbformat_minor": 5
}
